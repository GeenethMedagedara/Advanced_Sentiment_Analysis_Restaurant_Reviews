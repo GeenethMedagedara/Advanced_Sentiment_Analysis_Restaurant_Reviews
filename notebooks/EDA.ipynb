{
 "cells": [
  {
   "cell_type": "markdown",
   "metadata": {},
   "source": [
    "# Exploratory Data Analysis 1"
   ]
  },
  {
   "cell_type": "markdown",
   "metadata": {},
   "source": [
    "### Imports"
   ]
  },
  {
   "cell_type": "code",
   "execution_count": 1,
   "metadata": {
    "execution": {
     "iopub.execute_input": "2025-03-07T08:57:50.916534Z",
     "iopub.status.busy": "2025-03-07T08:57:50.916534Z",
     "iopub.status.idle": "2025-03-07T08:57:52.815145Z",
     "shell.execute_reply": "2025-03-07T08:57:52.814149Z"
    }
   },
   "outputs": [],
   "source": [
    "import pandas as pd\n",
    "import sys\n",
    "import os\n",
    "\n",
    "current_dir = os.getcwd()\n",
    "\n",
    "# Define the project root relative to the current working directory\n",
    "project_root = os.path.abspath(os.path.join(current_dir, \"../\"))  # Adjust this based on your folder structure\n",
    "\n",
    "# Add project_root to sys.path\n",
    "sys.path.append(project_root)\n",
    "\n",
    "from src.preprocessing.data_cleaning import CountMissingValues, VisualizeMissingValues, DropMissingValues, TextCleaning, PreviewDataValues, DuplicateValues, DropDuplicateValues, TextRatingCleaning, WrongTextInDataframeCleaning\n",
    "from src.visualization.eda_visualization import TextLengthDistribution, WordCountDistribution, CommonWordsDistribution"
   ]
  },
  {
   "cell_type": "markdown",
   "metadata": {},
   "source": [
    "### Loading the data"
   ]
  },
  {
   "cell_type": "code",
   "execution_count": 2,
   "metadata": {
    "execution": {
     "iopub.execute_input": "2025-03-07T08:57:52.818145Z",
     "iopub.status.busy": "2025-03-07T08:57:52.818145Z",
     "iopub.status.idle": "2025-03-07T08:57:52.861809Z",
     "shell.execute_reply": "2025-03-07T08:57:52.861183Z"
    }
   },
   "outputs": [
    {
     "data": {
      "text/html": [
       "<div>\n",
       "<style scoped>\n",
       "    .dataframe tbody tr th:only-of-type {\n",
       "        vertical-align: middle;\n",
       "    }\n",
       "\n",
       "    .dataframe tbody tr th {\n",
       "        vertical-align: top;\n",
       "    }\n",
       "\n",
       "    .dataframe thead th {\n",
       "        text-align: right;\n",
       "    }\n",
       "</style>\n",
       "<table border=\"1\" class=\"dataframe\">\n",
       "  <thead>\n",
       "    <tr style=\"text-align: right;\">\n",
       "      <th></th>\n",
       "      <th>text</th>\n",
       "      <th>rating</th>\n",
       "      <th>date</th>\n",
       "      <th>location</th>\n",
       "    </tr>\n",
       "  </thead>\n",
       "  <tbody>\n",
       "    <tr>\n",
       "      <th>0</th>\n",
       "      <td>NaN</td>\n",
       "      <td>NaN</td>\n",
       "      <td>NaN</td>\n",
       "      <td>NaN</td>\n",
       "    </tr>\n",
       "    <tr>\n",
       "      <th>1</th>\n",
       "      <td>NaN</td>\n",
       "      <td>NaN</td>\n",
       "      <td>NaN</td>\n",
       "      <td>NaN</td>\n",
       "    </tr>\n",
       "    <tr>\n",
       "      <th>2</th>\n",
       "      <td>NaN</td>\n",
       "      <td>NaN</td>\n",
       "      <td>NaN</td>\n",
       "      <td>NaN</td>\n",
       "    </tr>\n",
       "    <tr>\n",
       "      <th>3</th>\n",
       "      <td>NaN</td>\n",
       "      <td>NaN</td>\n",
       "      <td>NaN</td>\n",
       "      <td>NaN</td>\n",
       "    </tr>\n",
       "    <tr>\n",
       "      <th>4</th>\n",
       "      <td>NaN</td>\n",
       "      <td>NaN</td>\n",
       "      <td>NaN</td>\n",
       "      <td>NaN</td>\n",
       "    </tr>\n",
       "    <tr>\n",
       "      <th>...</th>\n",
       "      <td>...</td>\n",
       "      <td>...</td>\n",
       "      <td>...</td>\n",
       "      <td>...</td>\n",
       "    </tr>\n",
       "    <tr>\n",
       "      <th>8350</th>\n",
       "      <td>NaN</td>\n",
       "      <td>NaN</td>\n",
       "      <td>NaN</td>\n",
       "      <td>NaN</td>\n",
       "    </tr>\n",
       "    <tr>\n",
       "      <th>8351</th>\n",
       "      <td>NaN</td>\n",
       "      <td>NaN</td>\n",
       "      <td>NaN</td>\n",
       "      <td>NaN</td>\n",
       "    </tr>\n",
       "    <tr>\n",
       "      <th>8352</th>\n",
       "      <td>NaN</td>\n",
       "      <td>NaN</td>\n",
       "      <td>NaN</td>\n",
       "      <td>NaN</td>\n",
       "    </tr>\n",
       "    <tr>\n",
       "      <th>8353</th>\n",
       "      <td>NaN</td>\n",
       "      <td>NaN</td>\n",
       "      <td>NaN</td>\n",
       "      <td>NaN</td>\n",
       "    </tr>\n",
       "    <tr>\n",
       "      <th>8354</th>\n",
       "      <td>NaN</td>\n",
       "      <td>NaN</td>\n",
       "      <td>NaN</td>\n",
       "      <td>NaN</td>\n",
       "    </tr>\n",
       "  </tbody>\n",
       "</table>\n",
       "<p>8355 rows × 4 columns</p>\n",
       "</div>"
      ],
      "text/plain": [
       "     text rating date location\n",
       "0     NaN    NaN  NaN      NaN\n",
       "1     NaN    NaN  NaN      NaN\n",
       "2     NaN    NaN  NaN      NaN\n",
       "3     NaN    NaN  NaN      NaN\n",
       "4     NaN    NaN  NaN      NaN\n",
       "...   ...    ...  ...      ...\n",
       "8350  NaN    NaN  NaN      NaN\n",
       "8351  NaN    NaN  NaN      NaN\n",
       "8352  NaN    NaN  NaN      NaN\n",
       "8353  NaN    NaN  NaN      NaN\n",
       "8354  NaN    NaN  NaN      NaN\n",
       "\n",
       "[8355 rows x 4 columns]"
      ]
     },
     "execution_count": 2,
     "metadata": {},
     "output_type": "execute_result"
    }
   ],
   "source": [
    "data_path = '../data/raw/yelp.csv'\n",
    "df = pd.read_csv(data_path)\n",
    "df"
   ]
  },
  {
   "cell_type": "markdown",
   "metadata": {},
   "source": [
    "### Preview The Data"
   ]
  },
  {
   "cell_type": "code",
   "execution_count": 3,
   "metadata": {
    "execution": {
     "iopub.execute_input": "2025-03-07T08:57:52.890988Z",
     "iopub.status.busy": "2025-03-07T08:57:52.889990Z",
     "iopub.status.idle": "2025-03-07T08:57:52.923520Z",
     "shell.execute_reply": "2025-03-07T08:57:52.923014Z"
    }
   },
   "outputs": [
    {
     "name": "stdout",
     "output_type": "stream",
     "text": [
      "<class 'pandas.core.frame.DataFrame'>\n",
      "RangeIndex: 8355 entries, 0 to 8354\n",
      "Data columns (total 4 columns):\n",
      " #   Column    Non-Null Count  Dtype \n",
      "---  ------    --------------  ----- \n",
      " 0   text      522 non-null    object\n",
      " 1   rating    1674 non-null   object\n",
      " 2   date      899 non-null    object\n",
      " 3   location  1584 non-null   object\n",
      "dtypes: object(4)\n",
      "memory usage: 261.2+ KB\n"
     ]
    },
    {
     "data": {
      "text/plain": [
       "(  text rating date location\n",
       " 0  NaN    NaN  NaN      NaN\n",
       " 1  NaN    NaN  NaN      NaN\n",
       " 2  NaN    NaN  NaN      NaN\n",
       " 3  NaN    NaN  NaN      NaN\n",
       " 4  NaN    NaN  NaN      NaN,\n",
       " None,\n",
       "                                                      text         rating  \\\n",
       " count                                                 522           1674   \n",
       " unique                                                193              8   \n",
       " top     <span class=\" raw__09f24__T4Ezm\">299 Sussex St...  4 star rating   \n",
       " freq                                                  175            668   \n",
       " \n",
       "                date           location  \n",
       " count           899               1584  \n",
       " unique          188                117  \n",
       " top     Dec 4, 2024  Sydney, Australia  \n",
       " freq             48                200  )"
      ]
     },
     "metadata": {},
     "output_type": "display_data"
    }
   ],
   "source": [
    "display(PreviewDataValues().execute(df))"
   ]
  },
  {
   "cell_type": "code",
   "execution_count": 4,
   "metadata": {
    "execution": {
     "iopub.execute_input": "2025-03-07T08:57:52.925527Z",
     "iopub.status.busy": "2025-03-07T08:57:52.925527Z",
     "iopub.status.idle": "2025-03-07T08:57:52.938526Z",
     "shell.execute_reply": "2025-03-07T08:57:52.938526Z"
    }
   },
   "outputs": [
    {
     "name": "stdout",
     "output_type": "stream",
     "text": [
      "Duplicate rows: 7624\n"
     ]
    }
   ],
   "source": [
    "print(f\"Duplicate rows: {DuplicateValues().execute(df)}\")\n"
   ]
  },
  {
   "cell_type": "code",
   "execution_count": 5,
   "metadata": {
    "execution": {
     "iopub.execute_input": "2025-03-07T08:57:52.941527Z",
     "iopub.status.busy": "2025-03-07T08:57:52.940527Z",
     "iopub.status.idle": "2025-03-07T08:57:52.954526Z",
     "shell.execute_reply": "2025-03-07T08:57:52.954526Z"
    }
   },
   "outputs": [
    {
     "name": "stdout",
     "output_type": "stream",
     "text": [
      "Missing Values Count:\n",
      "text        7833\n",
      "rating      6681\n",
      "date        7456\n",
      "location    6771\n",
      "dtype: int64\n"
     ]
    }
   ],
   "source": [
    "print(\"Missing Values Count:\")\n",
    "print(CountMissingValues().execute(df))"
   ]
  },
  {
   "cell_type": "code",
   "execution_count": 6,
   "metadata": {
    "execution": {
     "iopub.execute_input": "2025-03-07T08:57:52.957526Z",
     "iopub.status.busy": "2025-03-07T08:57:52.957526Z",
     "iopub.status.idle": "2025-03-07T08:57:53.319283Z",
     "shell.execute_reply": "2025-03-07T08:57:53.318281Z"
    }
   },
   "outputs": [
    {
     "data": {
      "image/png": "[encoded data removed]",
      "text/plain": [
       "<Figure size 1000x600 with 1 Axes>"
      ]
     },
     "metadata": {},
     "output_type": "display_data"
    },
    {
     "name": "stdout",
     "output_type": "stream",
     "text": [
      "None\n"
     ]
    }
   ],
   "source": [
    "print(VisualizeMissingValues().execute(df))"
   ]
  },
  {
   "cell_type": "markdown",
   "metadata": {},
   "source": [
    "### Initial Cleaning of the data"
   ]
  },
  {
   "cell_type": "code",
   "execution_count": 7,
   "metadata": {
    "execution": {
     "iopub.execute_input": "2025-03-07T08:57:53.322285Z",
     "iopub.status.busy": "2025-03-07T08:57:53.321283Z",
     "iopub.status.idle": "2025-03-07T08:57:53.333282Z",
     "shell.execute_reply": "2025-03-07T08:57:53.333282Z"
    }
   },
   "outputs": [
    {
     "name": "stdout",
     "output_type": "stream",
     "text": [
      "                                                   text         rating  \\\n",
      "37    <span class=\" raw__09f24__T4Ezm\">299 Sussex St...  5 star rating   \n",
      "38    <span class=\" raw__09f24__T4Ezm\">299 Sussex St...  5 star rating   \n",
      "80    <span class=\" raw__09f24__T4Ezm\" lang=\"en\">Del...  5 star rating   \n",
      "81    <span class=\" raw__09f24__T4Ezm\" lang=\"en\">Del...  5 star rating   \n",
      "83    <span class=\" raw__09f24__T4Ezm\" lang=\"en\">Del...  5 star rating   \n",
      "...                                                 ...            ...   \n",
      "8179  <span class=\" raw__09f24__T4Ezm\" lang=\"en\">If ...  4 star rating   \n",
      "8191  <span class=\" raw__09f24__T4Ezm\" lang=\"en\">Our...  5 star rating   \n",
      "8203  <span class=\" raw__09f24__T4Ezm\" lang=\"en\">I'v...  4 star rating   \n",
      "8215  <span class=\" raw__09f24__T4Ezm\" lang=\"en\">Exc...  4 star rating   \n",
      "8235  <span class=\" raw__09f24__T4Ezm\" lang=\"en\">Amb...  5 star rating   \n",
      "\n",
      "              date                                           location  \n",
      "37     Dec 4, 2024  I've tried a range of dishes and really love t...  \n",
      "38     Dec 4, 2024  I've tried a range of dishes and really love t...  \n",
      "80     Dec 4, 2024                                           Location  \n",
      "81     Dec 4, 2024                                           Location  \n",
      "83     Dec 4, 2024                                           Location  \n",
      "...            ...                                                ...  \n",
      "8179  Jan 13, 2017                                   Brampton, Canada  \n",
      "8191  Apr 16, 2019                                       San Jose, CA  \n",
      "8203  May 17, 2016                                   Winnipeg, Canada  \n",
      "8215  Jun 18, 2016                                  Sydney, Australia  \n",
      "8235   Apr 7, 2019                          Downtown, Los Angeles, CA  \n",
      "\n",
      "[383 rows x 4 columns]\n"
     ]
    }
   ],
   "source": [
    "# Process the DataFrame\n",
    "df = DropMissingValues().execute(df)\n",
    "\n",
    "# Display the result\n",
    "print(df)"
   ]
  },
  {
   "cell_type": "code",
   "execution_count": 8,
   "metadata": {
    "execution": {
     "iopub.execute_input": "2025-03-07T08:57:53.336283Z",
     "iopub.status.busy": "2025-03-07T08:57:53.336283Z",
     "iopub.status.idle": "2025-03-07T08:57:53.348282Z",
     "shell.execute_reply": "2025-03-07T08:57:53.348282Z"
    }
   },
   "outputs": [
    {
     "name": "stdout",
     "output_type": "stream",
     "text": [
      "Missing Values Count:\n",
      "text        0\n",
      "rating      0\n",
      "date        0\n",
      "location    0\n",
      "dtype: int64\n"
     ]
    }
   ],
   "source": [
    "print(\"Missing Values Count:\")\n",
    "print(CountMissingValues().execute(df))"
   ]
  },
  {
   "cell_type": "code",
   "execution_count": 9,
   "metadata": {
    "execution": {
     "iopub.execute_input": "2025-03-07T08:57:53.351283Z",
     "iopub.status.busy": "2025-03-07T08:57:53.351283Z",
     "iopub.status.idle": "2025-03-07T08:57:53.365000Z",
     "shell.execute_reply": "2025-03-07T08:57:53.364282Z"
    }
   },
   "outputs": [
    {
     "name": "stdout",
     "output_type": "stream",
     "text": [
      "                                                   text         rating  \\\n",
      "37    <span class=\" raw__09f24__T4Ezm\">299 Sussex St...  5 star rating   \n",
      "80    <span class=\" raw__09f24__T4Ezm\" lang=\"en\">Del...  5 star rating   \n",
      "108   <span class=\" raw__09f24__T4Ezm\" lang=\"en\">Del...  5 star rating   \n",
      "119   <span class=\" raw__09f24__T4Ezm\" lang=\"en\">Cam...  3 star rating   \n",
      "131   <span class=\" raw__09f24__T4Ezm\" lang=\"en\">unf...  1 star rating   \n",
      "...                                                 ...            ...   \n",
      "8179  <span class=\" raw__09f24__T4Ezm\" lang=\"en\">If ...  4 star rating   \n",
      "8191  <span class=\" raw__09f24__T4Ezm\" lang=\"en\">Our...  5 star rating   \n",
      "8203  <span class=\" raw__09f24__T4Ezm\" lang=\"en\">I'v...  4 star rating   \n",
      "8215  <span class=\" raw__09f24__T4Ezm\" lang=\"en\">Exc...  4 star rating   \n",
      "8235  <span class=\" raw__09f24__T4Ezm\" lang=\"en\">Amb...  5 star rating   \n",
      "\n",
      "              date                                           location  \n",
      "37     Dec 4, 2024  I've tried a range of dishes and really love t...  \n",
      "80     Dec 4, 2024                                           Location  \n",
      "108    Dec 4, 2024                                       Temecula, CA  \n",
      "119   Feb 15, 2025                                   Jacksonville, FL  \n",
      "131   Oct 25, 2024                                         Kailua, HI  \n",
      "...            ...                                                ...  \n",
      "8179  Jan 13, 2017                                   Brampton, Canada  \n",
      "8191  Apr 16, 2019                                       San Jose, CA  \n",
      "8203  May 17, 2016                                   Winnipeg, Canada  \n",
      "8215  Jun 18, 2016                                  Sydney, Australia  \n",
      "8235   Apr 7, 2019                          Downtown, Los Angeles, CA  \n",
      "\n",
      "[223 rows x 4 columns]\n"
     ]
    }
   ],
   "source": [
    "df = DropDuplicateValues().execute(df)\n",
    "\n",
    "print(df)"
   ]
  },
  {
   "cell_type": "code",
   "execution_count": 10,
   "metadata": {
    "execution": {
     "iopub.execute_input": "2025-03-07T08:57:53.368176Z",
     "iopub.status.busy": "2025-03-07T08:57:53.367658Z",
     "iopub.status.idle": "2025-03-07T08:57:53.379522Z",
     "shell.execute_reply": "2025-03-07T08:57:53.379522Z"
    }
   },
   "outputs": [
    {
     "name": "stdout",
     "output_type": "stream",
     "text": [
      "Duplicate rows: 0\n"
     ]
    }
   ],
   "source": [
    "print(f\"Duplicate rows: {DuplicateValues().execute(df)}\")"
   ]
  },
  {
   "cell_type": "code",
   "execution_count": 11,
   "metadata": {
    "execution": {
     "iopub.execute_input": "2025-03-07T08:57:53.382523Z",
     "iopub.status.busy": "2025-03-07T08:57:53.382523Z",
     "iopub.status.idle": "2025-03-07T08:57:53.394522Z",
     "shell.execute_reply": "2025-03-07T08:57:53.394522Z"
    }
   },
   "outputs": [
    {
     "name": "stdout",
     "output_type": "stream",
     "text": [
      "                                                   text         rating  \\\n",
      "37       <span class=\" raw__09f24__T4Ezm\">299 Sussex St  5 star rating   \n",
      "80    Delicious Thai restaurant!  If you're looking ...  5 star rating   \n",
      "108   Delicious Thai restaurant!  If you're looking ...  5 star rating   \n",
      "119   Came here on Valentine, and the foods were goo...  3 star rating   \n",
      "131   unfortunately my husband reacts to msg (ajinom...  1 star rating   \n",
      "...                                                 ...            ...   \n",
      "8179  If I ever come back to Sydney, this place is a...  4 star rating   \n",
      "8191  Our local friend recommend us this pearl in Sy...  5 star rating   \n",
      "8203  I've been dying to come here - had it bookmark...  4 star rating   \n",
      "8215  Excellent thai restaurant in the city !!! Loca...  4 star rating   \n",
      "8235  Ambiance:- lively atmosphere - tight spacingSe...  5 star rating   \n",
      "\n",
      "              date                                           location  \n",
      "37     Dec 4, 2024  I've tried a range of dishes and really love t...  \n",
      "80     Dec 4, 2024                                           Location  \n",
      "108    Dec 4, 2024                                       Temecula, CA  \n",
      "119   Feb 15, 2025                                   Jacksonville, FL  \n",
      "131   Oct 25, 2024                                         Kailua, HI  \n",
      "...            ...                                                ...  \n",
      "8179  Jan 13, 2017                                   Brampton, Canada  \n",
      "8191  Apr 16, 2019                                       San Jose, CA  \n",
      "8203  May 17, 2016                                   Winnipeg, Canada  \n",
      "8215  Jun 18, 2016                                  Sydney, Australia  \n",
      "8235   Apr 7, 2019                          Downtown, Los Angeles, CA  \n",
      "\n",
      "[223 rows x 4 columns]\n"
     ]
    }
   ],
   "source": [
    "df = TextCleaning().execute(df)\n",
    "print(df)"
   ]
  },
  {
   "cell_type": "code",
   "execution_count": 12,
   "metadata": {
    "execution": {
     "iopub.execute_input": "2025-03-07T08:57:53.397523Z",
     "iopub.status.busy": "2025-03-07T08:57:53.397523Z",
     "iopub.status.idle": "2025-03-07T08:57:53.410523Z",
     "shell.execute_reply": "2025-03-07T08:57:53.410523Z"
    }
   },
   "outputs": [
    {
     "name": "stdout",
     "output_type": "stream",
     "text": [
      "                                                   text rating          date  \\\n",
      "37       <span class=\" raw__09f24__T4Ezm\">299 Sussex St     5    Dec 4, 2024   \n",
      "80    Delicious Thai restaurant!  If you're looking ...     5    Dec 4, 2024   \n",
      "108   Delicious Thai restaurant!  If you're looking ...     5    Dec 4, 2024   \n",
      "119   Came here on Valentine, and the foods were goo...     3   Feb 15, 2025   \n",
      "131   unfortunately my husband reacts to msg (ajinom...     1   Oct 25, 2024   \n",
      "...                                                 ...    ...           ...   \n",
      "8179  If I ever come back to Sydney, this place is a...     4   Jan 13, 2017   \n",
      "8191  Our local friend recommend us this pearl in Sy...     5   Apr 16, 2019   \n",
      "8203  I've been dying to come here - had it bookmark...     4   May 17, 2016   \n",
      "8215  Excellent thai restaurant in the city !!! Loca...     4   Jun 18, 2016   \n",
      "8235  Ambiance:- lively atmosphere - tight spacingSe...     5    Apr 7, 2019   \n",
      "\n",
      "                                               location  \n",
      "37    I've tried a range of dishes and really love t...  \n",
      "80                                             Location  \n",
      "108                                        Temecula, CA  \n",
      "119                                    Jacksonville, FL  \n",
      "131                                          Kailua, HI  \n",
      "...                                                 ...  \n",
      "8179                                   Brampton, Canada  \n",
      "8191                                       San Jose, CA  \n",
      "8203                                   Winnipeg, Canada  \n",
      "8215                                  Sydney, Australia  \n",
      "8235                          Downtown, Los Angeles, CA  \n",
      "\n",
      "[223 rows x 4 columns]\n"
     ]
    }
   ],
   "source": [
    "df = TextRatingCleaning().execute(df)\n",
    "print(df)"
   ]
  },
  {
   "cell_type": "code",
   "execution_count": 13,
   "metadata": {
    "execution": {
     "iopub.execute_input": "2025-03-07T08:57:53.413524Z",
     "iopub.status.busy": "2025-03-07T08:57:53.413524Z",
     "iopub.status.idle": "2025-03-07T08:57:53.426523Z",
     "shell.execute_reply": "2025-03-07T08:57:53.426523Z"
    }
   },
   "outputs": [
    {
     "name": "stdout",
     "output_type": "stream",
     "text": [
      "                                                   text rating          date  \\\n",
      "108   Delicious Thai restaurant!  If you're looking ...     5    Dec 4, 2024   \n",
      "119   Came here on Valentine, and the foods were goo...     3   Feb 15, 2025   \n",
      "131   unfortunately my husband reacts to msg (ajinom...     1   Oct 25, 2024   \n",
      "143   Food was delicious...the only drawback is the ...     4    Jan 7, 2025   \n",
      "155   Great place for Thai food and just as long as ...     4    Feb 6, 2024   \n",
      "...                                                 ...    ...           ...   \n",
      "8179  If I ever come back to Sydney, this place is a...     4   Jan 13, 2017   \n",
      "8191  Our local friend recommend us this pearl in Sy...     5   Apr 16, 2019   \n",
      "8203  I've been dying to come here - had it bookmark...     4   May 17, 2016   \n",
      "8215  Excellent thai restaurant in the city !!! Loca...     4   Jun 18, 2016   \n",
      "8235  Ambiance:- lively atmosphere - tight spacingSe...     5    Apr 7, 2019   \n",
      "\n",
      "                       location  \n",
      "108                Temecula, CA  \n",
      "119            Jacksonville, FL  \n",
      "131                  Kailua, HI  \n",
      "143              San Rafael, CA  \n",
      "155            San Clemente, CA  \n",
      "...                         ...  \n",
      "8179           Brampton, Canada  \n",
      "8191               San Jose, CA  \n",
      "8203           Winnipeg, Canada  \n",
      "8215          Sydney, Australia  \n",
      "8235  Downtown, Los Angeles, CA  \n",
      "\n",
      "[184 rows x 4 columns]\n"
     ]
    }
   ],
   "source": [
    "df = WrongTextInDataframeCleaning().execute(df)\n",
    "print(df)"
   ]
  },
  {
   "cell_type": "code",
   "execution_count": 14,
   "metadata": {
    "execution": {
     "iopub.execute_input": "2025-03-07T08:57:53.429523Z",
     "iopub.status.busy": "2025-03-07T08:57:53.429523Z",
     "iopub.status.idle": "2025-03-07T08:57:53.442523Z",
     "shell.execute_reply": "2025-03-07T08:57:53.442523Z"
    }
   },
   "outputs": [
    {
     "data": {
      "text/html": [
       "<div>\n",
       "<style scoped>\n",
       "    .dataframe tbody tr th:only-of-type {\n",
       "        vertical-align: middle;\n",
       "    }\n",
       "\n",
       "    .dataframe tbody tr th {\n",
       "        vertical-align: top;\n",
       "    }\n",
       "\n",
       "    .dataframe thead th {\n",
       "        text-align: right;\n",
       "    }\n",
       "</style>\n",
       "<table border=\"1\" class=\"dataframe\">\n",
       "  <thead>\n",
       "    <tr style=\"text-align: right;\">\n",
       "      <th></th>\n",
       "      <th>text</th>\n",
       "      <th>rating</th>\n",
       "      <th>date</th>\n",
       "      <th>location</th>\n",
       "    </tr>\n",
       "  </thead>\n",
       "  <tbody>\n",
       "    <tr>\n",
       "      <th>108</th>\n",
       "      <td>Delicious Thai restaurant!  If you're looking ...</td>\n",
       "      <td>5</td>\n",
       "      <td>Dec 4, 2024</td>\n",
       "      <td>Temecula, CA</td>\n",
       "    </tr>\n",
       "    <tr>\n",
       "      <th>119</th>\n",
       "      <td>Came here on Valentine, and the foods were goo...</td>\n",
       "      <td>3</td>\n",
       "      <td>Feb 15, 2025</td>\n",
       "      <td>Jacksonville, FL</td>\n",
       "    </tr>\n",
       "    <tr>\n",
       "      <th>131</th>\n",
       "      <td>unfortunately my husband reacts to msg (ajinom...</td>\n",
       "      <td>1</td>\n",
       "      <td>Oct 25, 2024</td>\n",
       "      <td>Kailua, HI</td>\n",
       "    </tr>\n",
       "    <tr>\n",
       "      <th>143</th>\n",
       "      <td>Food was delicious...the only drawback is the ...</td>\n",
       "      <td>4</td>\n",
       "      <td>Jan 7, 2025</td>\n",
       "      <td>San Rafael, CA</td>\n",
       "    </tr>\n",
       "    <tr>\n",
       "      <th>155</th>\n",
       "      <td>Great place for Thai food and just as long as ...</td>\n",
       "      <td>4</td>\n",
       "      <td>Feb 6, 2024</td>\n",
       "      <td>San Clemente, CA</td>\n",
       "    </tr>\n",
       "    <tr>\n",
       "      <th>...</th>\n",
       "      <td>...</td>\n",
       "      <td>...</td>\n",
       "      <td>...</td>\n",
       "      <td>...</td>\n",
       "    </tr>\n",
       "    <tr>\n",
       "      <th>8179</th>\n",
       "      <td>If I ever come back to Sydney, this place is a...</td>\n",
       "      <td>4</td>\n",
       "      <td>Jan 13, 2017</td>\n",
       "      <td>Brampton, Canada</td>\n",
       "    </tr>\n",
       "    <tr>\n",
       "      <th>8191</th>\n",
       "      <td>Our local friend recommend us this pearl in Sy...</td>\n",
       "      <td>5</td>\n",
       "      <td>Apr 16, 2019</td>\n",
       "      <td>San Jose, CA</td>\n",
       "    </tr>\n",
       "    <tr>\n",
       "      <th>8203</th>\n",
       "      <td>I've been dying to come here - had it bookmark...</td>\n",
       "      <td>4</td>\n",
       "      <td>May 17, 2016</td>\n",
       "      <td>Winnipeg, Canada</td>\n",
       "    </tr>\n",
       "    <tr>\n",
       "      <th>8215</th>\n",
       "      <td>Excellent thai restaurant in the city !!! Loca...</td>\n",
       "      <td>4</td>\n",
       "      <td>Jun 18, 2016</td>\n",
       "      <td>Sydney, Australia</td>\n",
       "    </tr>\n",
       "    <tr>\n",
       "      <th>8235</th>\n",
       "      <td>Ambiance:- lively atmosphere - tight spacingSe...</td>\n",
       "      <td>5</td>\n",
       "      <td>Apr 7, 2019</td>\n",
       "      <td>Downtown, Los Angeles, CA</td>\n",
       "    </tr>\n",
       "  </tbody>\n",
       "</table>\n",
       "<p>184 rows × 4 columns</p>\n",
       "</div>"
      ],
      "text/plain": [
       "                                                   text rating          date  \\\n",
       "108   Delicious Thai restaurant!  If you're looking ...     5    Dec 4, 2024   \n",
       "119   Came here on Valentine, and the foods were goo...     3   Feb 15, 2025   \n",
       "131   unfortunately my husband reacts to msg (ajinom...     1   Oct 25, 2024   \n",
       "143   Food was delicious...the only drawback is the ...     4    Jan 7, 2025   \n",
       "155   Great place for Thai food and just as long as ...     4    Feb 6, 2024   \n",
       "...                                                 ...    ...           ...   \n",
       "8179  If I ever come back to Sydney, this place is a...     4   Jan 13, 2017   \n",
       "8191  Our local friend recommend us this pearl in Sy...     5   Apr 16, 2019   \n",
       "8203  I've been dying to come here - had it bookmark...     4   May 17, 2016   \n",
       "8215  Excellent thai restaurant in the city !!! Loca...     4   Jun 18, 2016   \n",
       "8235  Ambiance:- lively atmosphere - tight spacingSe...     5    Apr 7, 2019   \n",
       "\n",
       "                       location  \n",
       "108                Temecula, CA  \n",
       "119            Jacksonville, FL  \n",
       "131                  Kailua, HI  \n",
       "143              San Rafael, CA  \n",
       "155            San Clemente, CA  \n",
       "...                         ...  \n",
       "8179           Brampton, Canada  \n",
       "8191               San Jose, CA  \n",
       "8203           Winnipeg, Canada  \n",
       "8215          Sydney, Australia  \n",
       "8235  Downtown, Los Angeles, CA  \n",
       "\n",
       "[184 rows x 4 columns]"
      ]
     },
     "execution_count": 14,
     "metadata": {},
     "output_type": "execute_result"
    }
   ],
   "source": [
    "df"
   ]
  },
  {
   "cell_type": "code",
   "execution_count": 15,
   "metadata": {
    "execution": {
     "iopub.execute_input": "2025-03-07T08:57:53.445523Z",
     "iopub.status.busy": "2025-03-07T08:57:53.445523Z",
     "iopub.status.idle": "2025-03-07T08:57:53.458522Z",
     "shell.execute_reply": "2025-03-07T08:57:53.458522Z"
    }
   },
   "outputs": [
    {
     "name": "stdout",
     "output_type": "stream",
     "text": [
      "Missing Values Count:\n",
      "text        0\n",
      "rating      0\n",
      "date        0\n",
      "location    0\n",
      "dtype: int64\n"
     ]
    }
   ],
   "source": [
    "print(\"Missing Values Count:\")\n",
    "print(CountMissingValues().execute(df))"
   ]
  },
  {
   "cell_type": "markdown",
   "metadata": {},
   "source": [
    "### Visualizing the initialy cleaned data"
   ]
  },
  {
   "cell_type": "code",
   "execution_count": 16,
   "metadata": {
    "execution": {
     "iopub.execute_input": "2025-03-07T08:57:53.461524Z",
     "iopub.status.busy": "2025-03-07T08:57:53.461524Z",
     "iopub.status.idle": "2025-03-07T08:57:53.628523Z",
     "shell.execute_reply": "2025-03-07T08:57:53.628523Z"
    }
   },
   "outputs": [
    {
     "data": {
      "image/png": "[encoded data removed]",
      "text/plain": [
       "<Figure size 640x480 with 1 Axes>"
      ]
     },
     "metadata": {},
     "output_type": "display_data"
    },
    {
     "name": "stdout",
     "output_type": "stream",
     "text": [
      "None\n"
     ]
    }
   ],
   "source": [
    "print(TextLengthDistribution().execute(df))"
   ]
  },
  {
   "cell_type": "code",
   "execution_count": 17,
   "metadata": {
    "execution": {
     "iopub.execute_input": "2025-03-07T08:57:53.631524Z",
     "iopub.status.busy": "2025-03-07T08:57:53.631524Z",
     "iopub.status.idle": "2025-03-07T08:57:53.783522Z",
     "shell.execute_reply": "2025-03-07T08:57:53.783522Z"
    }
   },
   "outputs": [
    {
     "data": {
      "image/png": "[encoded data removed]",
      "text/plain": [
       "<Figure size 640x480 with 1 Axes>"
      ]
     },
     "metadata": {},
     "output_type": "display_data"
    },
    {
     "name": "stdout",
     "output_type": "stream",
     "text": [
      "None\n"
     ]
    }
   ],
   "source": [
    "print(WordCountDistribution().execute(df))"
   ]
  },
  {
   "cell_type": "code",
   "execution_count": 18,
   "metadata": {
    "execution": {
     "iopub.execute_input": "2025-03-07T08:57:53.786523Z",
     "iopub.status.busy": "2025-03-07T08:57:53.785523Z",
     "iopub.status.idle": "2025-03-07T08:57:54.096972Z",
     "shell.execute_reply": "2025-03-07T08:57:54.096972Z"
    }
   },
   "outputs": [
    {
     "name": "stderr",
     "output_type": "stream",
     "text": [
      "C:\\Users\\Geeneth\\Desktop\\Code\\Machine Learning\\PycharmProjects\\Advanced Sentiment Analysis\\src\\visualization\\eda_visualization.py:40: FutureWarning: \n",
      "\n",
      "Passing `palette` without assigning `hue` is deprecated and will be removed in v0.14.0. Assign the `y` variable to `hue` and set `legend=False` for the same effect.\n",
      "\n",
      "  sns.barplot(data=common_words, x='Frequency', y='Word', palette='coolwarm')\n"
     ]
    },
    {
     "data": {
      "image/png": "[encoded data removed]",
      "text/plain": [
       "<Figure size 640x480 with 1 Axes>"
      ]
     },
     "metadata": {},
     "output_type": "display_data"
    },
    {
     "name": "stdout",
     "output_type": "stream",
     "text": [
      "None\n"
     ]
    }
   ],
   "source": [
    "print(CommonWordsDistribution().execute(df))\n"
   ]
  },
  {
   "cell_type": "code",
   "execution_count": 19,
   "metadata": {
    "execution": {
     "iopub.execute_input": "2025-03-07T08:57:54.099973Z",
     "iopub.status.busy": "2025-03-07T08:57:54.099973Z",
     "iopub.status.idle": "2025-03-07T08:57:54.111972Z",
     "shell.execute_reply": "2025-03-07T08:57:54.111972Z"
    }
   },
   "outputs": [
    {
     "data": {
      "text/html": [
       "<div>\n",
       "<style scoped>\n",
       "    .dataframe tbody tr th:only-of-type {\n",
       "        vertical-align: middle;\n",
       "    }\n",
       "\n",
       "    .dataframe tbody tr th {\n",
       "        vertical-align: top;\n",
       "    }\n",
       "\n",
       "    .dataframe thead th {\n",
       "        text-align: right;\n",
       "    }\n",
       "</style>\n",
       "<table border=\"1\" class=\"dataframe\">\n",
       "  <thead>\n",
       "    <tr style=\"text-align: right;\">\n",
       "      <th></th>\n",
       "      <th>text</th>\n",
       "      <th>rating</th>\n",
       "      <th>date</th>\n",
       "      <th>location</th>\n",
       "      <th>review_length</th>\n",
       "      <th>word_count</th>\n",
       "    </tr>\n",
       "  </thead>\n",
       "  <tbody>\n",
       "    <tr>\n",
       "      <th>108</th>\n",
       "      <td>Delicious Thai restaurant!  If you're looking ...</td>\n",
       "      <td>5</td>\n",
       "      <td>Dec 4, 2024</td>\n",
       "      <td>Temecula, CA</td>\n",
       "      <td>198</td>\n",
       "      <td>33</td>\n",
       "    </tr>\n",
       "    <tr>\n",
       "      <th>119</th>\n",
       "      <td>Came here on Valentine, and the foods were goo...</td>\n",
       "      <td>3</td>\n",
       "      <td>Feb 15, 2025</td>\n",
       "      <td>Jacksonville, FL</td>\n",
       "      <td>485</td>\n",
       "      <td>82</td>\n",
       "    </tr>\n",
       "    <tr>\n",
       "      <th>131</th>\n",
       "      <td>unfortunately my husband reacts to msg (ajinom...</td>\n",
       "      <td>1</td>\n",
       "      <td>Oct 25, 2024</td>\n",
       "      <td>Kailua, HI</td>\n",
       "      <td>733</td>\n",
       "      <td>131</td>\n",
       "    </tr>\n",
       "    <tr>\n",
       "      <th>143</th>\n",
       "      <td>Food was delicious...the only drawback is the ...</td>\n",
       "      <td>4</td>\n",
       "      <td>Jan 7, 2025</td>\n",
       "      <td>San Rafael, CA</td>\n",
       "      <td>165</td>\n",
       "      <td>26</td>\n",
       "    </tr>\n",
       "    <tr>\n",
       "      <th>155</th>\n",
       "      <td>Great place for Thai food and just as long as ...</td>\n",
       "      <td>4</td>\n",
       "      <td>Feb 6, 2024</td>\n",
       "      <td>San Clemente, CA</td>\n",
       "      <td>345</td>\n",
       "      <td>69</td>\n",
       "    </tr>\n",
       "    <tr>\n",
       "      <th>...</th>\n",
       "      <td>...</td>\n",
       "      <td>...</td>\n",
       "      <td>...</td>\n",
       "      <td>...</td>\n",
       "      <td>...</td>\n",
       "      <td>...</td>\n",
       "    </tr>\n",
       "    <tr>\n",
       "      <th>8179</th>\n",
       "      <td>If I ever come back to Sydney, this place is a...</td>\n",
       "      <td>4</td>\n",
       "      <td>Jan 13, 2017</td>\n",
       "      <td>Brampton, Canada</td>\n",
       "      <td>1284</td>\n",
       "      <td>238</td>\n",
       "    </tr>\n",
       "    <tr>\n",
       "      <th>8191</th>\n",
       "      <td>Our local friend recommend us this pearl in Sy...</td>\n",
       "      <td>5</td>\n",
       "      <td>Apr 16, 2019</td>\n",
       "      <td>San Jose, CA</td>\n",
       "      <td>261</td>\n",
       "      <td>42</td>\n",
       "    </tr>\n",
       "    <tr>\n",
       "      <th>8203</th>\n",
       "      <td>I've been dying to come here - had it bookmark...</td>\n",
       "      <td>4</td>\n",
       "      <td>May 17, 2016</td>\n",
       "      <td>Winnipeg, Canada</td>\n",
       "      <td>1973</td>\n",
       "      <td>361</td>\n",
       "    </tr>\n",
       "    <tr>\n",
       "      <th>8215</th>\n",
       "      <td>Excellent thai restaurant in the city !!! Loca...</td>\n",
       "      <td>4</td>\n",
       "      <td>Jun 18, 2016</td>\n",
       "      <td>Sydney, Australia</td>\n",
       "      <td>217</td>\n",
       "      <td>40</td>\n",
       "    </tr>\n",
       "    <tr>\n",
       "      <th>8235</th>\n",
       "      <td>Ambiance:- lively atmosphere - tight spacingSe...</td>\n",
       "      <td>5</td>\n",
       "      <td>Apr 7, 2019</td>\n",
       "      <td>Downtown, Los Angeles, CA</td>\n",
       "      <td>247</td>\n",
       "      <td>39</td>\n",
       "    </tr>\n",
       "  </tbody>\n",
       "</table>\n",
       "<p>184 rows × 6 columns</p>\n",
       "</div>"
      ],
      "text/plain": [
       "                                                   text rating          date  \\\n",
       "108   Delicious Thai restaurant!  If you're looking ...     5    Dec 4, 2024   \n",
       "119   Came here on Valentine, and the foods were goo...     3   Feb 15, 2025   \n",
       "131   unfortunately my husband reacts to msg (ajinom...     1   Oct 25, 2024   \n",
       "143   Food was delicious...the only drawback is the ...     4    Jan 7, 2025   \n",
       "155   Great place for Thai food and just as long as ...     4    Feb 6, 2024   \n",
       "...                                                 ...    ...           ...   \n",
       "8179  If I ever come back to Sydney, this place is a...     4   Jan 13, 2017   \n",
       "8191  Our local friend recommend us this pearl in Sy...     5   Apr 16, 2019   \n",
       "8203  I've been dying to come here - had it bookmark...     4   May 17, 2016   \n",
       "8215  Excellent thai restaurant in the city !!! Loca...     4   Jun 18, 2016   \n",
       "8235  Ambiance:- lively atmosphere - tight spacingSe...     5    Apr 7, 2019   \n",
       "\n",
       "                       location  review_length  word_count  \n",
       "108                Temecula, CA            198          33  \n",
       "119            Jacksonville, FL            485          82  \n",
       "131                  Kailua, HI            733         131  \n",
       "143              San Rafael, CA            165          26  \n",
       "155            San Clemente, CA            345          69  \n",
       "...                         ...            ...         ...  \n",
       "8179           Brampton, Canada           1284         238  \n",
       "8191               San Jose, CA            261          42  \n",
       "8203           Winnipeg, Canada           1973         361  \n",
       "8215          Sydney, Australia            217          40  \n",
       "8235  Downtown, Los Angeles, CA            247          39  \n",
       "\n",
       "[184 rows x 6 columns]"
      ]
     },
     "execution_count": 19,
     "metadata": {},
     "output_type": "execute_result"
    }
   ],
   "source": [
    "df"
   ]
  },
  {
   "cell_type": "code",
   "execution_count": 20,
   "metadata": {
    "execution": {
     "iopub.execute_input": "2025-03-07T08:57:54.114974Z",
     "iopub.status.busy": "2025-03-07T08:57:54.114974Z",
     "iopub.status.idle": "2025-03-07T08:57:54.127973Z",
     "shell.execute_reply": "2025-03-07T08:57:54.127973Z"
    }
   },
   "outputs": [
    {
     "data": {
      "text/plain": [
       "text             Delicious Thai restaurant!  If you're looking ...\n",
       "rating                                                          5 \n",
       "date                                                   Dec 4, 2024\n",
       "location                                              Temecula, CA\n",
       "review_length                                                  198\n",
       "word_count                                                      33\n",
       "Name: 108, dtype: object"
      ]
     },
     "execution_count": 20,
     "metadata": {},
     "output_type": "execute_result"
    }
   ],
   "source": [
    "df.loc[108]"
   ]
  },
  {
   "cell_type": "markdown",
   "metadata": {},
   "source": [
    "### Saving the initially cleaned dataset"
   ]
  },
  {
   "cell_type": "code",
   "execution_count": 21,
   "metadata": {
    "execution": {
     "iopub.execute_input": "2025-03-07T08:57:54.130974Z",
     "iopub.status.busy": "2025-03-07T08:57:54.130974Z",
     "iopub.status.idle": "2025-03-07T08:57:54.142972Z",
     "shell.execute_reply": "2025-03-07T08:57:54.142972Z"
    }
   },
   "outputs": [],
   "source": [
    "df.to_csv('../data/cleaned/cleaned_reviews.csv', index=False)"
   ]
  }
 ],
 "metadata": {
  "kernelspec": {
   "display_name": ".venv",
   "language": "python",
   "name": "python3"
  },
  "language_info": {
   "codemirror_mode": {
    "name": "ipython",
    "version": 3
   },
   "file_extension": ".py",
   "mimetype": "text/x-python",
   "name": "python",
   "nbconvert_exporter": "python",
   "pygments_lexer": "ipython3",
   "version": "3.10.0"
  }
 },
 "nbformat": 4,
 "nbformat_minor": 2
}
