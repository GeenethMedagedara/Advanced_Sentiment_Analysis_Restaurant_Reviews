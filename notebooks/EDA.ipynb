{
 "cells": [
  {
   "cell_type": "markdown",
   "metadata": {},
   "source": [
    "# Exploratory Data Analysis 1"
   ]
  },
  {
   "cell_type": "markdown",
   "metadata": {},
   "source": [
    "### Imports"
   ]
  },
  {
   "cell_type": "code",
   "execution_count": 1,
   "metadata": {
    "execution": {
     "iopub.execute_input": "2025-03-01T08:25:23.899143Z",
     "iopub.status.busy": "2025-03-01T08:25:23.899143Z",
     "iopub.status.idle": "2025-03-01T08:25:25.375144Z",
     "shell.execute_reply": "2025-03-01T08:25:25.375144Z"
    }
   },
   "outputs": [],
   "source": [
    "import pandas as pd\n",
    "import sys\n",
    "import os\n",
    "\n",
    "current_dir = os.getcwd()\n",
    "\n",
    "# Define the project root relative to the current working directory\n",
    "project_root = os.path.abspath(os.path.join(current_dir, \"../\"))  # Adjust this based on your folder structure\n",
    "\n",
    "# Add project_root to sys.path\n",
    "sys.path.append(project_root)\n",
    "\n",
    "from src.preprocessing.data_cleaning import CountMissingValues, VisualizeMissingValues, DropMissingValues, TextCleaning, PreviewDataValues, DuplicateValues, DropDuplicateValues, TextRatingCleaning, WrongTextInDataframeCleaning\n",
    "from src.visualization.eda_visualization import TextLengthDistribution, WordCountDistribution, CommonWordsDistribution"
   ]
  },
  {
   "cell_type": "markdown",
   "metadata": {},
   "source": [
    "### Loading the data"
   ]
  },
  {
   "cell_type": "code",
   "execution_count": null,
   "metadata": {
    "execution": {
     "iopub.execute_input": "2025-03-01T08:25:25.378145Z",
     "iopub.status.busy": "2025-03-01T08:25:25.377146Z",
     "iopub.status.idle": "2025-03-01T08:25:25.406657Z",
     "shell.execute_reply": "2025-03-01T08:25:25.406657Z"
    }
   },
   "outputs": [
    {
     "data": {
      "text/html": [
       "<div>\n",
       "<style scoped>\n",
       "    .dataframe tbody tr th:only-of-type {\n",
       "        vertical-align: middle;\n",
       "    }\n",
       "\n",
       "    .dataframe tbody tr th {\n",
       "        vertical-align: top;\n",
       "    }\n",
       "\n",
       "    .dataframe thead th {\n",
       "        text-align: right;\n",
       "    }\n",
       "</style>\n",
       "<table border=\"1\" class=\"dataframe\">\n",
       "  <thead>\n",
       "    <tr style=\"text-align: right;\">\n",
       "      <th></th>\n",
       "      <th>text</th>\n",
       "      <th>rating</th>\n",
       "      <th>date</th>\n",
       "      <th>location</th>\n",
       "    </tr>\n",
       "  </thead>\n",
       "  <tbody>\n",
       "    <tr>\n",
       "      <th>0</th>\n",
       "      <td>NaN</td>\n",
       "      <td>NaN</td>\n",
       "      <td>NaN</td>\n",
       "      <td>NaN</td>\n",
       "    </tr>\n",
       "    <tr>\n",
       "      <th>1</th>\n",
       "      <td>NaN</td>\n",
       "      <td>NaN</td>\n",
       "      <td>NaN</td>\n",
       "      <td>NaN</td>\n",
       "    </tr>\n",
       "    <tr>\n",
       "      <th>2</th>\n",
       "      <td>NaN</td>\n",
       "      <td>NaN</td>\n",
       "      <td>NaN</td>\n",
       "      <td>NaN</td>\n",
       "    </tr>\n",
       "    <tr>\n",
       "      <th>3</th>\n",
       "      <td>NaN</td>\n",
       "      <td>NaN</td>\n",
       "      <td>NaN</td>\n",
       "      <td>NaN</td>\n",
       "    </tr>\n",
       "    <tr>\n",
       "      <th>4</th>\n",
       "      <td>NaN</td>\n",
       "      <td>NaN</td>\n",
       "      <td>NaN</td>\n",
       "      <td>NaN</td>\n",
       "    </tr>\n",
       "    <tr>\n",
       "      <th>...</th>\n",
       "      <td>...</td>\n",
       "      <td>...</td>\n",
       "      <td>...</td>\n",
       "      <td>...</td>\n",
       "    </tr>\n",
       "    <tr>\n",
       "      <th>2650</th>\n",
       "      <td>NaN</td>\n",
       "      <td>NaN</td>\n",
       "      <td>NaN</td>\n",
       "      <td>NaN</td>\n",
       "    </tr>\n",
       "    <tr>\n",
       "      <th>2651</th>\n",
       "      <td>NaN</td>\n",
       "      <td>NaN</td>\n",
       "      <td>NaN</td>\n",
       "      <td>NaN</td>\n",
       "    </tr>\n",
       "    <tr>\n",
       "      <th>2652</th>\n",
       "      <td>NaN</td>\n",
       "      <td>NaN</td>\n",
       "      <td>NaN</td>\n",
       "      <td>NaN</td>\n",
       "    </tr>\n",
       "    <tr>\n",
       "      <th>2653</th>\n",
       "      <td>NaN</td>\n",
       "      <td>NaN</td>\n",
       "      <td>NaN</td>\n",
       "      <td>NaN</td>\n",
       "    </tr>\n",
       "    <tr>\n",
       "      <th>2654</th>\n",
       "      <td>NaN</td>\n",
       "      <td>NaN</td>\n",
       "      <td>NaN</td>\n",
       "      <td>NaN</td>\n",
       "    </tr>\n",
       "  </tbody>\n",
       "</table>\n",
       "<p>2655 rows × 4 columns</p>\n",
       "</div>"
      ],
      "text/plain": [
       "     text rating date location\n",
       "0     NaN    NaN  NaN      NaN\n",
       "1     NaN    NaN  NaN      NaN\n",
       "2     NaN    NaN  NaN      NaN\n",
       "3     NaN    NaN  NaN      NaN\n",
       "4     NaN    NaN  NaN      NaN\n",
       "...   ...    ...  ...      ...\n",
       "2650  NaN    NaN  NaN      NaN\n",
       "2651  NaN    NaN  NaN      NaN\n",
       "2652  NaN    NaN  NaN      NaN\n",
       "2653  NaN    NaN  NaN      NaN\n",
       "2654  NaN    NaN  NaN      NaN\n",
       "\n",
       "[2655 rows x 4 columns]"
      ]
     },
     "execution_count": 2,
     "metadata": {},
     "output_type": "execute_result"
    }
   ],
   "source": [
    "data_path = '../data/raw/yelp.csv'\n",
    "df = pd.read_csv(data_path)\n",
    "df"
   ]
  },
  {
   "cell_type": "markdown",
   "metadata": {},
   "source": [
    "### Preview The Data"
   ]
  },
  {
   "cell_type": "code",
   "execution_count": 3,
   "metadata": {
    "execution": {
     "iopub.execute_input": "2025-03-01T08:25:25.423660Z",
     "iopub.status.busy": "2025-03-01T08:25:25.423660Z",
     "iopub.status.idle": "2025-03-01T08:25:25.451624Z",
     "shell.execute_reply": "2025-03-01T08:25:25.451624Z"
    }
   },
   "outputs": [
    {
     "name": "stdout",
     "output_type": "stream",
     "text": [
      "<class 'pandas.core.frame.DataFrame'>\n",
      "RangeIndex: 2655 entries, 0 to 2654\n",
      "Data columns (total 4 columns):\n",
      " #   Column    Non-Null Count  Dtype \n",
      "---  ------    --------------  ----- \n",
      " 0   text      166 non-null    object\n",
      " 1   rating    534 non-null    object\n",
      " 2   date      286 non-null    object\n",
      " 3   location  518 non-null    object\n",
      "dtypes: object(4)\n",
      "memory usage: 83.1+ KB\n"
     ]
    },
    {
     "data": {
      "text/plain": [
       "(  text rating date location\n",
       " 0  NaN    NaN  NaN      NaN\n",
       " 1  NaN    NaN  NaN      NaN\n",
       " 2  NaN    NaN  NaN      NaN\n",
       " 3  NaN    NaN  NaN      NaN\n",
       " 4  NaN    NaN  NaN      NaN,\n",
       " None,\n",
       "                                                      text         rating  \\\n",
       " count                                                 166            534   \n",
       " unique                                                 22              7   \n",
       " top     <span class=\" raw__09f24__T4Ezm\">299 Sussex St...  4 star rating   \n",
       " freq                                                   56            215   \n",
       " \n",
       "                date  location  \n",
       " count           286       518  \n",
       " unique           21        23  \n",
       " top     Dec 4, 2024  Location  \n",
       " freq             56        56  )"
      ]
     },
     "metadata": {},
     "output_type": "display_data"
    }
   ],
   "source": [
    "display(PreviewDataValues().execute(df))"
   ]
  },
  {
   "cell_type": "code",
   "execution_count": 4,
   "metadata": {
    "execution": {
     "iopub.execute_input": "2025-03-01T08:25:25.454657Z",
     "iopub.status.busy": "2025-03-01T08:25:25.453625Z",
     "iopub.status.idle": "2025-03-01T08:25:25.467657Z",
     "shell.execute_reply": "2025-03-01T08:25:25.467657Z"
    }
   },
   "outputs": [
    {
     "name": "stdout",
     "output_type": "stream",
     "text": [
      "Duplicate rows: 2560\n"
     ]
    }
   ],
   "source": [
    "print(f\"Duplicate rows: {DuplicateValues().execute(df)}\")\n"
   ]
  },
  {
   "cell_type": "code",
   "execution_count": 5,
   "metadata": {
    "execution": {
     "iopub.execute_input": "2025-03-01T08:25:25.470657Z",
     "iopub.status.busy": "2025-03-01T08:25:25.469624Z",
     "iopub.status.idle": "2025-03-01T08:25:25.484626Z",
     "shell.execute_reply": "2025-03-01T08:25:25.483665Z"
    }
   },
   "outputs": [
    {
     "name": "stdout",
     "output_type": "stream",
     "text": [
      "Missing Values Count:\n",
      "text        2489\n",
      "rating      2121\n",
      "date        2369\n",
      "location    2137\n",
      "dtype: int64\n"
     ]
    }
   ],
   "source": [
    "print(\"Missing Values Count:\")\n",
    "print(CountMissingValues().execute(df))"
   ]
  },
  {
   "cell_type": "code",
   "execution_count": 6,
   "metadata": {
    "execution": {
     "iopub.execute_input": "2025-03-01T08:25:25.486624Z",
     "iopub.status.busy": "2025-03-01T08:25:25.486624Z",
     "iopub.status.idle": "2025-03-01T08:25:25.800661Z",
     "shell.execute_reply": "2025-03-01T08:25:25.800661Z"
    }
   },
   "outputs": [
    {
     "data": {
      "image/png": "[encoded data removed]",
      "text/plain": [
       "<Figure size 1000x600 with 1 Axes>"
      ]
     },
     "metadata": {},
     "output_type": "display_data"
    },
    {
     "name": "stdout",
     "output_type": "stream",
     "text": [
      "None\n"
     ]
    }
   ],
   "source": [
    "print(VisualizeMissingValues().execute(df))"
   ]
  },
  {
   "cell_type": "markdown",
   "metadata": {},
   "source": [
    "### Initial Cleaning of the data"
   ]
  },
  {
   "cell_type": "code",
   "execution_count": 7,
   "metadata": {
    "execution": {
     "iopub.execute_input": "2025-03-01T08:25:25.803650Z",
     "iopub.status.busy": "2025-03-01T08:25:25.802624Z",
     "iopub.status.idle": "2025-03-01T08:25:25.816414Z",
     "shell.execute_reply": "2025-03-01T08:25:25.816414Z"
    }
   },
   "outputs": [
    {
     "name": "stdout",
     "output_type": "stream",
     "text": [
      "                                                   text         rating  \\\n",
      "37    <span class=\" raw__09f24__T4Ezm\">299 Sussex St...  5 star rating   \n",
      "38    <span class=\" raw__09f24__T4Ezm\">299 Sussex St...  5 star rating   \n",
      "80    <span class=\" raw__09f24__T4Ezm\" lang=\"en\">Del...  5 star rating   \n",
      "81    <span class=\" raw__09f24__T4Ezm\" lang=\"en\">Del...  5 star rating   \n",
      "83    <span class=\" raw__09f24__T4Ezm\" lang=\"en\">Del...  5 star rating   \n",
      "...                                                 ...            ...   \n",
      "2489  <span class=\" raw__09f24__T4Ezm\" lang=\"en\">Ver...  1 star rating   \n",
      "2501  <span class=\" raw__09f24__T4Ezm\" lang=\"en\">Thi...  5 star rating   \n",
      "2512  <span class=\" raw__09f24__T4Ezm\" lang=\"en\">We ...  4 star rating   \n",
      "2523  <span class=\" raw__09f24__T4Ezm\" lang=\"en\">We ...  5 star rating   \n",
      "2535  <span class=\" raw__09f24__T4Ezm\" lang=\"en\">We ...  3 star rating   \n",
      "\n",
      "              date                                           location  \n",
      "37     Dec 4, 2024  I've tried a range of dishes and really love t...  \n",
      "38     Dec 4, 2024  I've tried a range of dishes and really love t...  \n",
      "80     Dec 4, 2024                                           Location  \n",
      "81     Dec 4, 2024                                           Location  \n",
      "83     Dec 4, 2024                                           Location  \n",
      "...            ...                                                ...  \n",
      "2489  Feb 15, 2023                     Chippendale, Sydney, Australia  \n",
      "2501   Jan 3, 2019                                    Los Angeles, CA  \n",
      "2512  Sep 29, 2016                                   Indianapolis, IN  \n",
      "2523  Sep 25, 2018                                Brisbane, Australia  \n",
      "2535   Jul 4, 2018                                    Los Angeles, CA  \n",
      "\n",
      "[126 rows x 4 columns]\n"
     ]
    }
   ],
   "source": [
    "# Process the DataFrame\n",
    "df = DropMissingValues().execute(df)\n",
    "\n",
    "# Display the result\n",
    "print(df)"
   ]
  },
  {
   "cell_type": "code",
   "execution_count": 8,
   "metadata": {
    "execution": {
     "iopub.execute_input": "2025-03-01T08:25:25.819416Z",
     "iopub.status.busy": "2025-03-01T08:25:25.818415Z",
     "iopub.status.idle": "2025-03-01T08:25:25.831415Z",
     "shell.execute_reply": "2025-03-01T08:25:25.831415Z"
    }
   },
   "outputs": [
    {
     "name": "stdout",
     "output_type": "stream",
     "text": [
      "Missing Values Count:\n",
      "text        0\n",
      "rating      0\n",
      "date        0\n",
      "location    0\n",
      "dtype: int64\n"
     ]
    }
   ],
   "source": [
    "print(\"Missing Values Count:\")\n",
    "print(CountMissingValues().execute(df))"
   ]
  },
  {
   "cell_type": "code",
   "execution_count": 9,
   "metadata": {
    "execution": {
     "iopub.execute_input": "2025-03-01T08:25:25.833415Z",
     "iopub.status.busy": "2025-03-01T08:25:25.833415Z",
     "iopub.status.idle": "2025-03-01T08:25:25.846448Z",
     "shell.execute_reply": "2025-03-01T08:25:25.846448Z"
    }
   },
   "outputs": [
    {
     "name": "stdout",
     "output_type": "stream",
     "text": [
      "                                                   text         rating  \\\n",
      "37    <span class=\" raw__09f24__T4Ezm\">299 Sussex St...  5 star rating   \n",
      "80    <span class=\" raw__09f24__T4Ezm\" lang=\"en\">Del...  5 star rating   \n",
      "108   <span class=\" raw__09f24__T4Ezm\" lang=\"en\">Del...  5 star rating   \n",
      "119   <span class=\" raw__09f24__T4Ezm\" lang=\"en\">Cam...  3 star rating   \n",
      "131   <span class=\" raw__09f24__T4Ezm\" lang=\"en\">unf...  1 star rating   \n",
      "143   <span class=\" raw__09f24__T4Ezm\" lang=\"en\">Foo...  4 star rating   \n",
      "155   <span class=\" raw__09f24__T4Ezm\" lang=\"en\">Gre...  4 star rating   \n",
      "166   <span class=\" raw__09f24__T4Ezm\" lang=\"en\">Rea...  5 star rating   \n",
      "177   <span class=\" raw__09f24__T4Ezm\" lang=\"en\">Cam...  4 star rating   \n",
      "189   <span class=\" raw__09f24__T4Ezm\" lang=\"en\">The...  4 star rating   \n",
      "200   <span class=\" raw__09f24__T4Ezm\" lang=\"en\">We ...  5 star rating   \n",
      "212   <span class=\" raw__09f24__T4Ezm\" lang=\"en\">Ove...  5 star rating   \n",
      "331                                                text         rating   \n",
      "2360  <span class=\" raw__09f24__T4Ezm\">299 Sussex St...  5 star rating   \n",
      "2403  <span class=\" raw__09f24__T4Ezm\" lang=\"en\">Nic...  5 star rating   \n",
      "2431  <span class=\" raw__09f24__T4Ezm\" lang=\"en\">Nic...  5 star rating   \n",
      "2442  <span class=\" raw__09f24__T4Ezm\" lang=\"en\">Aut...  5 star rating   \n",
      "2453  <span class=\" raw__09f24__T4Ezm\" lang=\"en\">I u...  5 star rating   \n",
      "2465  <span class=\" raw__09f24__T4Ezm\" lang=\"en\">Bes...  5 star rating   \n",
      "2477  <span class=\" raw__09f24__T4Ezm\" lang=\"en\">As ...  3 star rating   \n",
      "2489  <span class=\" raw__09f24__T4Ezm\" lang=\"en\">Ver...  1 star rating   \n",
      "2501  <span class=\" raw__09f24__T4Ezm\" lang=\"en\">Thi...  5 star rating   \n",
      "2512  <span class=\" raw__09f24__T4Ezm\" lang=\"en\">We ...  4 star rating   \n",
      "2523  <span class=\" raw__09f24__T4Ezm\" lang=\"en\">We ...  5 star rating   \n",
      "2535  <span class=\" raw__09f24__T4Ezm\" lang=\"en\">We ...  3 star rating   \n",
      "\n",
      "              date                                           location  \n",
      "37     Dec 4, 2024  I've tried a range of dishes and really love t...  \n",
      "80     Dec 4, 2024                                           Location  \n",
      "108    Dec 4, 2024                                       Temecula, CA  \n",
      "119   Feb 15, 2025                                   Jacksonville, FL  \n",
      "131   Oct 25, 2024                                         Kailua, HI  \n",
      "143    Jan 7, 2025                                     San Rafael, CA  \n",
      "155    Feb 6, 2024                                   San Clemente, CA  \n",
      "166    Jan 2, 2024                                      Cupertino, CA  \n",
      "177   Feb 22, 2024                         Portishead, United Kingdom  \n",
      "189   Mar 29, 2024                                       Lakeside, CA  \n",
      "200   Aug 24, 2022                                    Calgary, Canada  \n",
      "212    Jan 1, 2024                                      Champaign, IL  \n",
      "331           date                                           location  \n",
      "2360  Dec 14, 2023  I've tried a range of dishes and really love t...  \n",
      "2403  Dec 14, 2023                                           Location  \n",
      "2431  Dec 14, 2023                                  Sydney, Australia  \n",
      "2442   Nov 6, 2019                                 Bulimba, Australia  \n",
      "2453  Mar 29, 2018                                        Chicago, IL  \n",
      "2465   Jul 2, 2021                                      Knoxville, TN  \n",
      "2477  May 26, 2019                                    Los Angeles, CA  \n",
      "2489  Feb 15, 2023                     Chippendale, Sydney, Australia  \n",
      "2501   Jan 3, 2019                                    Los Angeles, CA  \n",
      "2512  Sep 29, 2016                                   Indianapolis, IN  \n",
      "2523  Sep 25, 2018                                Brisbane, Australia  \n",
      "2535   Jul 4, 2018                                    Los Angeles, CA  \n"
     ]
    }
   ],
   "source": [
    "df = DropDuplicateValues().execute(df)\n",
    "\n",
    "print(df)"
   ]
  },
  {
   "cell_type": "code",
   "execution_count": 10,
   "metadata": {
    "execution": {
     "iopub.execute_input": "2025-03-01T08:25:25.849439Z",
     "iopub.status.busy": "2025-03-01T08:25:25.848448Z",
     "iopub.status.idle": "2025-03-01T08:25:25.862448Z",
     "shell.execute_reply": "2025-03-01T08:25:25.862448Z"
    }
   },
   "outputs": [
    {
     "name": "stdout",
     "output_type": "stream",
     "text": [
      "Duplicate rows: 0\n"
     ]
    }
   ],
   "source": [
    "print(f\"Duplicate rows: {DuplicateValues().execute(df)}\")"
   ]
  },
  {
   "cell_type": "code",
   "execution_count": 11,
   "metadata": {
    "execution": {
     "iopub.execute_input": "2025-03-01T08:25:25.865415Z",
     "iopub.status.busy": "2025-03-01T08:25:25.865415Z",
     "iopub.status.idle": "2025-03-01T08:25:25.878415Z",
     "shell.execute_reply": "2025-03-01T08:25:25.878415Z"
    }
   },
   "outputs": [
    {
     "name": "stdout",
     "output_type": "stream",
     "text": [
      "                                                   text         rating  \\\n",
      "37       <span class=\" raw__09f24__T4Ezm\">299 Sussex St  5 star rating   \n",
      "80    Delicious Thai restaurant!  If you're looking ...  5 star rating   \n",
      "108   Delicious Thai restaurant!  If you're looking ...  5 star rating   \n",
      "119   Came here on Valentine, and the foods were goo...  3 star rating   \n",
      "131   unfortunately my husband reacts to msg (ajinom...  1 star rating   \n",
      "143   Food was delicious...the only drawback is the ...  4 star rating   \n",
      "155   Great place for Thai food and just as long as ...  4 star rating   \n",
      "166   Really good Thai food.  Large portions and ful...  5 star rating   \n",
      "177   Came here looklng for Indonesian food for dinn...  4 star rating   \n",
      "189   The food is good and the people are nice. The ...  4 star rating   \n",
      "200   We were hungry and we when in and this was abs...  5 star rating   \n",
      "212   Overall food was good. I enjoyed the papaya sa...  5 star rating   \n",
      "331                                                text         rating   \n",
      "2360     <span class=\" raw__09f24__T4Ezm\">299 Sussex St  5 star rating   \n",
      "2403  Nice food, large portions and low prices. I re...  5 star rating   \n",
      "2431  Nice food, large portions and low prices. I re...  5 star rating   \n",
      "2442  Authentic Thai flavoursEven on a Wednesday eve...  5 star rating   \n",
      "2453  I usually love exploring different restaurants...  5 star rating   \n",
      "2465  Best Thom Yum  soup ever! Good service. Very t...  5 star rating   \n",
      "2477  As others have stated, Home Thai Restaurant is...  3 star rating   \n",
      "2489  Very bad experience. First of all, the environ...  1 star rating   \n",
      "2501  This place definitely lives up to the hype! Th...  5 star rating   \n",
      "2512  We found Home Thai on Yelp and were not disapp...  4 star rating   \n",
      "2523  We always passed this restaurant on our way ho...  5 star rating   \n",
      "2535  We came here because we'd heard good things fr...  3 star rating   \n",
      "\n",
      "              date                                           location  \n",
      "37     Dec 4, 2024  I've tried a range of dishes and really love t...  \n",
      "80     Dec 4, 2024                                           Location  \n",
      "108    Dec 4, 2024                                       Temecula, CA  \n",
      "119   Feb 15, 2025                                   Jacksonville, FL  \n",
      "131   Oct 25, 2024                                         Kailua, HI  \n",
      "143    Jan 7, 2025                                     San Rafael, CA  \n",
      "155    Feb 6, 2024                                   San Clemente, CA  \n",
      "166    Jan 2, 2024                                      Cupertino, CA  \n",
      "177   Feb 22, 2024                         Portishead, United Kingdom  \n",
      "189   Mar 29, 2024                                       Lakeside, CA  \n",
      "200   Aug 24, 2022                                    Calgary, Canada  \n",
      "212    Jan 1, 2024                                      Champaign, IL  \n",
      "331           date                                           location  \n",
      "2360  Dec 14, 2023  I've tried a range of dishes and really love t...  \n",
      "2403  Dec 14, 2023                                           Location  \n",
      "2431  Dec 14, 2023                                  Sydney, Australia  \n",
      "2442   Nov 6, 2019                                 Bulimba, Australia  \n",
      "2453  Mar 29, 2018                                        Chicago, IL  \n",
      "2465   Jul 2, 2021                                      Knoxville, TN  \n",
      "2477  May 26, 2019                                    Los Angeles, CA  \n",
      "2489  Feb 15, 2023                     Chippendale, Sydney, Australia  \n",
      "2501   Jan 3, 2019                                    Los Angeles, CA  \n",
      "2512  Sep 29, 2016                                   Indianapolis, IN  \n",
      "2523  Sep 25, 2018                                Brisbane, Australia  \n",
      "2535   Jul 4, 2018                                    Los Angeles, CA  \n"
     ]
    }
   ],
   "source": [
    "df = TextCleaning().execute(df)\n",
    "print(df)"
   ]
  },
  {
   "cell_type": "code",
   "execution_count": 12,
   "metadata": {
    "execution": {
     "iopub.execute_input": "2025-03-01T08:25:25.882415Z",
     "iopub.status.busy": "2025-03-01T08:25:25.881416Z",
     "iopub.status.idle": "2025-03-01T08:25:25.895417Z",
     "shell.execute_reply": "2025-03-01T08:25:25.894417Z"
    }
   },
   "outputs": [
    {
     "name": "stdout",
     "output_type": "stream",
     "text": [
      "                                                   text  rating          date  \\\n",
      "37       <span class=\" raw__09f24__T4Ezm\">299 Sussex St      5    Dec 4, 2024   \n",
      "80    Delicious Thai restaurant!  If you're looking ...      5    Dec 4, 2024   \n",
      "108   Delicious Thai restaurant!  If you're looking ...      5    Dec 4, 2024   \n",
      "119   Came here on Valentine, and the foods were goo...      3   Feb 15, 2025   \n",
      "131   unfortunately my husband reacts to msg (ajinom...      1   Oct 25, 2024   \n",
      "143   Food was delicious...the only drawback is the ...      4    Jan 7, 2025   \n",
      "155   Great place for Thai food and just as long as ...      4    Feb 6, 2024   \n",
      "166   Really good Thai food.  Large portions and ful...      5    Jan 2, 2024   \n",
      "177   Came here looklng for Indonesian food for dinn...      4   Feb 22, 2024   \n",
      "189   The food is good and the people are nice. The ...      4   Mar 29, 2024   \n",
      "200   We were hungry and we when in and this was abs...      5   Aug 24, 2022   \n",
      "212   Overall food was good. I enjoyed the papaya sa...      5    Jan 1, 2024   \n",
      "331                                                text  rating          date   \n",
      "2360     <span class=\" raw__09f24__T4Ezm\">299 Sussex St      5   Dec 14, 2023   \n",
      "2403  Nice food, large portions and low prices. I re...      5   Dec 14, 2023   \n",
      "2431  Nice food, large portions and low prices. I re...      5   Dec 14, 2023   \n",
      "2442  Authentic Thai flavoursEven on a Wednesday eve...      5    Nov 6, 2019   \n",
      "2453  I usually love exploring different restaurants...      5   Mar 29, 2018   \n",
      "2465  Best Thom Yum  soup ever! Good service. Very t...      5    Jul 2, 2021   \n",
      "2477  As others have stated, Home Thai Restaurant is...      3   May 26, 2019   \n",
      "2489  Very bad experience. First of all, the environ...      1   Feb 15, 2023   \n",
      "2501  This place definitely lives up to the hype! Th...      5    Jan 3, 2019   \n",
      "2512  We found Home Thai on Yelp and were not disapp...      4   Sep 29, 2016   \n",
      "2523  We always passed this restaurant on our way ho...      5   Sep 25, 2018   \n",
      "2535  We came here because we'd heard good things fr...      3    Jul 4, 2018   \n",
      "\n",
      "                                               location  \n",
      "37    I've tried a range of dishes and really love t...  \n",
      "80                                             Location  \n",
      "108                                        Temecula, CA  \n",
      "119                                    Jacksonville, FL  \n",
      "131                                          Kailua, HI  \n",
      "143                                      San Rafael, CA  \n",
      "155                                    San Clemente, CA  \n",
      "166                                       Cupertino, CA  \n",
      "177                          Portishead, United Kingdom  \n",
      "189                                        Lakeside, CA  \n",
      "200                                     Calgary, Canada  \n",
      "212                                       Champaign, IL  \n",
      "331                                            location  \n",
      "2360  I've tried a range of dishes and really love t...  \n",
      "2403                                           Location  \n",
      "2431                                  Sydney, Australia  \n",
      "2442                                 Bulimba, Australia  \n",
      "2453                                        Chicago, IL  \n",
      "2465                                      Knoxville, TN  \n",
      "2477                                    Los Angeles, CA  \n",
      "2489                     Chippendale, Sydney, Australia  \n",
      "2501                                    Los Angeles, CA  \n",
      "2512                                   Indianapolis, IN  \n",
      "2523                                Brisbane, Australia  \n",
      "2535                                    Los Angeles, CA  \n"
     ]
    }
   ],
   "source": [
    "df = TextRatingCleaning().execute(df)\n",
    "print(df)"
   ]
  },
  {
   "cell_type": "code",
   "execution_count": 13,
   "metadata": {
    "execution": {
     "iopub.execute_input": "2025-03-01T08:25:25.898415Z",
     "iopub.status.busy": "2025-03-01T08:25:25.897415Z",
     "iopub.status.idle": "2025-03-01T08:25:25.910415Z",
     "shell.execute_reply": "2025-03-01T08:25:25.910415Z"
    }
   },
   "outputs": [
    {
     "name": "stdout",
     "output_type": "stream",
     "text": [
      "                                                   text rating          date  \\\n",
      "108   Delicious Thai restaurant!  If you're looking ...     5    Dec 4, 2024   \n",
      "119   Came here on Valentine, and the foods were goo...     3   Feb 15, 2025   \n",
      "131   unfortunately my husband reacts to msg (ajinom...     1   Oct 25, 2024   \n",
      "143   Food was delicious...the only drawback is the ...     4    Jan 7, 2025   \n",
      "155   Great place for Thai food and just as long as ...     4    Feb 6, 2024   \n",
      "166   Really good Thai food.  Large portions and ful...     5    Jan 2, 2024   \n",
      "177   Came here looklng for Indonesian food for dinn...     4   Feb 22, 2024   \n",
      "189   The food is good and the people are nice. The ...     4   Mar 29, 2024   \n",
      "200   We were hungry and we when in and this was abs...     5   Aug 24, 2022   \n",
      "212   Overall food was good. I enjoyed the papaya sa...     5    Jan 1, 2024   \n",
      "2431  Nice food, large portions and low prices. I re...     5   Dec 14, 2023   \n",
      "2442  Authentic Thai flavoursEven on a Wednesday eve...     5    Nov 6, 2019   \n",
      "2453  I usually love exploring different restaurants...     5   Mar 29, 2018   \n",
      "2465  Best Thom Yum  soup ever! Good service. Very t...     5    Jul 2, 2021   \n",
      "2477  As others have stated, Home Thai Restaurant is...     3   May 26, 2019   \n",
      "2489  Very bad experience. First of all, the environ...     1   Feb 15, 2023   \n",
      "2501  This place definitely lives up to the hype! Th...     5    Jan 3, 2019   \n",
      "2512  We found Home Thai on Yelp and were not disapp...     4   Sep 29, 2016   \n",
      "2523  We always passed this restaurant on our way ho...     5   Sep 25, 2018   \n",
      "2535  We came here because we'd heard good things fr...     3    Jul 4, 2018   \n",
      "\n",
      "                            location  \n",
      "108                     Temecula, CA  \n",
      "119                 Jacksonville, FL  \n",
      "131                       Kailua, HI  \n",
      "143                   San Rafael, CA  \n",
      "155                 San Clemente, CA  \n",
      "166                    Cupertino, CA  \n",
      "177       Portishead, United Kingdom  \n",
      "189                     Lakeside, CA  \n",
      "200                  Calgary, Canada  \n",
      "212                    Champaign, IL  \n",
      "2431               Sydney, Australia  \n",
      "2442              Bulimba, Australia  \n",
      "2453                     Chicago, IL  \n",
      "2465                   Knoxville, TN  \n",
      "2477                 Los Angeles, CA  \n",
      "2489  Chippendale, Sydney, Australia  \n",
      "2501                 Los Angeles, CA  \n",
      "2512                Indianapolis, IN  \n",
      "2523             Brisbane, Australia  \n",
      "2535                 Los Angeles, CA  \n"
     ]
    }
   ],
   "source": [
    "df = WrongTextInDataframeCleaning().execute(df)\n",
    "print(df)"
   ]
  },
  {
   "cell_type": "code",
   "execution_count": 14,
   "metadata": {
    "execution": {
     "iopub.execute_input": "2025-03-01T08:25:25.913416Z",
     "iopub.status.busy": "2025-03-01T08:25:25.913416Z",
     "iopub.status.idle": "2025-03-01T08:25:25.926448Z",
     "shell.execute_reply": "2025-03-01T08:25:25.926448Z"
    }
   },
   "outputs": [
    {
     "data": {
      "text/html": [
       "<div>\n",
       "<style scoped>\n",
       "    .dataframe tbody tr th:only-of-type {\n",
       "        vertical-align: middle;\n",
       "    }\n",
       "\n",
       "    .dataframe tbody tr th {\n",
       "        vertical-align: top;\n",
       "    }\n",
       "\n",
       "    .dataframe thead th {\n",
       "        text-align: right;\n",
       "    }\n",
       "</style>\n",
       "<table border=\"1\" class=\"dataframe\">\n",
       "  <thead>\n",
       "    <tr style=\"text-align: right;\">\n",
       "      <th></th>\n",
       "      <th>text</th>\n",
       "      <th>rating</th>\n",
       "      <th>date</th>\n",
       "      <th>location</th>\n",
       "    </tr>\n",
       "  </thead>\n",
       "  <tbody>\n",
       "    <tr>\n",
       "      <th>108</th>\n",
       "      <td>Delicious Thai restaurant!  If you're looking ...</td>\n",
       "      <td>5</td>\n",
       "      <td>Dec 4, 2024</td>\n",
       "      <td>Temecula, CA</td>\n",
       "    </tr>\n",
       "    <tr>\n",
       "      <th>119</th>\n",
       "      <td>Came here on Valentine, and the foods were goo...</td>\n",
       "      <td>3</td>\n",
       "      <td>Feb 15, 2025</td>\n",
       "      <td>Jacksonville, FL</td>\n",
       "    </tr>\n",
       "    <tr>\n",
       "      <th>131</th>\n",
       "      <td>unfortunately my husband reacts to msg (ajinom...</td>\n",
       "      <td>1</td>\n",
       "      <td>Oct 25, 2024</td>\n",
       "      <td>Kailua, HI</td>\n",
       "    </tr>\n",
       "    <tr>\n",
       "      <th>143</th>\n",
       "      <td>Food was delicious...the only drawback is the ...</td>\n",
       "      <td>4</td>\n",
       "      <td>Jan 7, 2025</td>\n",
       "      <td>San Rafael, CA</td>\n",
       "    </tr>\n",
       "    <tr>\n",
       "      <th>155</th>\n",
       "      <td>Great place for Thai food and just as long as ...</td>\n",
       "      <td>4</td>\n",
       "      <td>Feb 6, 2024</td>\n",
       "      <td>San Clemente, CA</td>\n",
       "    </tr>\n",
       "    <tr>\n",
       "      <th>166</th>\n",
       "      <td>Really good Thai food.  Large portions and ful...</td>\n",
       "      <td>5</td>\n",
       "      <td>Jan 2, 2024</td>\n",
       "      <td>Cupertino, CA</td>\n",
       "    </tr>\n",
       "    <tr>\n",
       "      <th>177</th>\n",
       "      <td>Came here looklng for Indonesian food for dinn...</td>\n",
       "      <td>4</td>\n",
       "      <td>Feb 22, 2024</td>\n",
       "      <td>Portishead, United Kingdom</td>\n",
       "    </tr>\n",
       "    <tr>\n",
       "      <th>189</th>\n",
       "      <td>The food is good and the people are nice. The ...</td>\n",
       "      <td>4</td>\n",
       "      <td>Mar 29, 2024</td>\n",
       "      <td>Lakeside, CA</td>\n",
       "    </tr>\n",
       "    <tr>\n",
       "      <th>200</th>\n",
       "      <td>We were hungry and we when in and this was abs...</td>\n",
       "      <td>5</td>\n",
       "      <td>Aug 24, 2022</td>\n",
       "      <td>Calgary, Canada</td>\n",
       "    </tr>\n",
       "    <tr>\n",
       "      <th>212</th>\n",
       "      <td>Overall food was good. I enjoyed the papaya sa...</td>\n",
       "      <td>5</td>\n",
       "      <td>Jan 1, 2024</td>\n",
       "      <td>Champaign, IL</td>\n",
       "    </tr>\n",
       "    <tr>\n",
       "      <th>2431</th>\n",
       "      <td>Nice food, large portions and low prices. I re...</td>\n",
       "      <td>5</td>\n",
       "      <td>Dec 14, 2023</td>\n",
       "      <td>Sydney, Australia</td>\n",
       "    </tr>\n",
       "    <tr>\n",
       "      <th>2442</th>\n",
       "      <td>Authentic Thai flavoursEven on a Wednesday eve...</td>\n",
       "      <td>5</td>\n",
       "      <td>Nov 6, 2019</td>\n",
       "      <td>Bulimba, Australia</td>\n",
       "    </tr>\n",
       "    <tr>\n",
       "      <th>2453</th>\n",
       "      <td>I usually love exploring different restaurants...</td>\n",
       "      <td>5</td>\n",
       "      <td>Mar 29, 2018</td>\n",
       "      <td>Chicago, IL</td>\n",
       "    </tr>\n",
       "    <tr>\n",
       "      <th>2465</th>\n",
       "      <td>Best Thom Yum  soup ever! Good service. Very t...</td>\n",
       "      <td>5</td>\n",
       "      <td>Jul 2, 2021</td>\n",
       "      <td>Knoxville, TN</td>\n",
       "    </tr>\n",
       "    <tr>\n",
       "      <th>2477</th>\n",
       "      <td>As others have stated, Home Thai Restaurant is...</td>\n",
       "      <td>3</td>\n",
       "      <td>May 26, 2019</td>\n",
       "      <td>Los Angeles, CA</td>\n",
       "    </tr>\n",
       "    <tr>\n",
       "      <th>2489</th>\n",
       "      <td>Very bad experience. First of all, the environ...</td>\n",
       "      <td>1</td>\n",
       "      <td>Feb 15, 2023</td>\n",
       "      <td>Chippendale, Sydney, Australia</td>\n",
       "    </tr>\n",
       "    <tr>\n",
       "      <th>2501</th>\n",
       "      <td>This place definitely lives up to the hype! Th...</td>\n",
       "      <td>5</td>\n",
       "      <td>Jan 3, 2019</td>\n",
       "      <td>Los Angeles, CA</td>\n",
       "    </tr>\n",
       "    <tr>\n",
       "      <th>2512</th>\n",
       "      <td>We found Home Thai on Yelp and were not disapp...</td>\n",
       "      <td>4</td>\n",
       "      <td>Sep 29, 2016</td>\n",
       "      <td>Indianapolis, IN</td>\n",
       "    </tr>\n",
       "    <tr>\n",
       "      <th>2523</th>\n",
       "      <td>We always passed this restaurant on our way ho...</td>\n",
       "      <td>5</td>\n",
       "      <td>Sep 25, 2018</td>\n",
       "      <td>Brisbane, Australia</td>\n",
       "    </tr>\n",
       "    <tr>\n",
       "      <th>2535</th>\n",
       "      <td>We came here because we'd heard good things fr...</td>\n",
       "      <td>3</td>\n",
       "      <td>Jul 4, 2018</td>\n",
       "      <td>Los Angeles, CA</td>\n",
       "    </tr>\n",
       "  </tbody>\n",
       "</table>\n",
       "</div>"
      ],
      "text/plain": [
       "                                                   text rating          date  \\\n",
       "108   Delicious Thai restaurant!  If you're looking ...     5    Dec 4, 2024   \n",
       "119   Came here on Valentine, and the foods were goo...     3   Feb 15, 2025   \n",
       "131   unfortunately my husband reacts to msg (ajinom...     1   Oct 25, 2024   \n",
       "143   Food was delicious...the only drawback is the ...     4    Jan 7, 2025   \n",
       "155   Great place for Thai food and just as long as ...     4    Feb 6, 2024   \n",
       "166   Really good Thai food.  Large portions and ful...     5    Jan 2, 2024   \n",
       "177   Came here looklng for Indonesian food for dinn...     4   Feb 22, 2024   \n",
       "189   The food is good and the people are nice. The ...     4   Mar 29, 2024   \n",
       "200   We were hungry and we when in and this was abs...     5   Aug 24, 2022   \n",
       "212   Overall food was good. I enjoyed the papaya sa...     5    Jan 1, 2024   \n",
       "2431  Nice food, large portions and low prices. I re...     5   Dec 14, 2023   \n",
       "2442  Authentic Thai flavoursEven on a Wednesday eve...     5    Nov 6, 2019   \n",
       "2453  I usually love exploring different restaurants...     5   Mar 29, 2018   \n",
       "2465  Best Thom Yum  soup ever! Good service. Very t...     5    Jul 2, 2021   \n",
       "2477  As others have stated, Home Thai Restaurant is...     3   May 26, 2019   \n",
       "2489  Very bad experience. First of all, the environ...     1   Feb 15, 2023   \n",
       "2501  This place definitely lives up to the hype! Th...     5    Jan 3, 2019   \n",
       "2512  We found Home Thai on Yelp and were not disapp...     4   Sep 29, 2016   \n",
       "2523  We always passed this restaurant on our way ho...     5   Sep 25, 2018   \n",
       "2535  We came here because we'd heard good things fr...     3    Jul 4, 2018   \n",
       "\n",
       "                            location  \n",
       "108                     Temecula, CA  \n",
       "119                 Jacksonville, FL  \n",
       "131                       Kailua, HI  \n",
       "143                   San Rafael, CA  \n",
       "155                 San Clemente, CA  \n",
       "166                    Cupertino, CA  \n",
       "177       Portishead, United Kingdom  \n",
       "189                     Lakeside, CA  \n",
       "200                  Calgary, Canada  \n",
       "212                    Champaign, IL  \n",
       "2431               Sydney, Australia  \n",
       "2442              Bulimba, Australia  \n",
       "2453                     Chicago, IL  \n",
       "2465                   Knoxville, TN  \n",
       "2477                 Los Angeles, CA  \n",
       "2489  Chippendale, Sydney, Australia  \n",
       "2501                 Los Angeles, CA  \n",
       "2512                Indianapolis, IN  \n",
       "2523             Brisbane, Australia  \n",
       "2535                 Los Angeles, CA  "
      ]
     },
     "execution_count": 14,
     "metadata": {},
     "output_type": "execute_result"
    }
   ],
   "source": [
    "df"
   ]
  },
  {
   "cell_type": "code",
   "execution_count": 15,
   "metadata": {
    "execution": {
     "iopub.execute_input": "2025-03-01T08:25:25.928448Z",
     "iopub.status.busy": "2025-03-01T08:25:25.928448Z",
     "iopub.status.idle": "2025-03-01T08:25:25.943434Z",
     "shell.execute_reply": "2025-03-01T08:25:25.942415Z"
    }
   },
   "outputs": [
    {
     "name": "stdout",
     "output_type": "stream",
     "text": [
      "Missing Values Count:\n",
      "text        0\n",
      "rating      0\n",
      "date        0\n",
      "location    0\n",
      "dtype: int64\n"
     ]
    }
   ],
   "source": [
    "print(\"Missing Values Count:\")\n",
    "print(CountMissingValues().execute(df))"
   ]
  },
  {
   "cell_type": "markdown",
   "metadata": {},
   "source": [
    "### Visualizing the initialy cleaned data"
   ]
  },
  {
   "cell_type": "code",
   "execution_count": 16,
   "metadata": {
    "execution": {
     "iopub.execute_input": "2025-03-01T08:25:25.946452Z",
     "iopub.status.busy": "2025-03-01T08:25:25.945449Z",
     "iopub.status.idle": "2025-03-01T08:25:26.098448Z",
     "shell.execute_reply": "2025-03-01T08:25:26.098448Z"
    }
   },
   "outputs": [
    {
     "data": {
      "image/png": "[encoded data removed]",
      "text/plain": [
       "<Figure size 640x480 with 1 Axes>"
      ]
     },
     "metadata": {},
     "output_type": "display_data"
    },
    {
     "name": "stdout",
     "output_type": "stream",
     "text": [
      "None\n"
     ]
    }
   ],
   "source": [
    "print(TextLengthDistribution().execute(df))"
   ]
  },
  {
   "cell_type": "code",
   "execution_count": 17,
   "metadata": {
    "execution": {
     "iopub.execute_input": "2025-03-01T08:25:26.104418Z",
     "iopub.status.busy": "2025-03-01T08:25:26.103422Z",
     "iopub.status.idle": "2025-03-01T08:25:26.257449Z",
     "shell.execute_reply": "2025-03-01T08:25:26.257449Z"
    }
   },
   "outputs": [
    {
     "data": {
      "image/png": "[encoded data removed]",
      "text/plain": [
       "<Figure size 640x480 with 1 Axes>"
      ]
     },
     "metadata": {},
     "output_type": "display_data"
    },
    {
     "name": "stdout",
     "output_type": "stream",
     "text": [
      "None\n"
     ]
    }
   ],
   "source": [
    "print(WordCountDistribution().execute(df))"
   ]
  },
  {
   "cell_type": "code",
   "execution_count": 18,
   "metadata": {
    "execution": {
     "iopub.execute_input": "2025-03-01T08:25:26.260452Z",
     "iopub.status.busy": "2025-03-01T08:25:26.259449Z",
     "iopub.status.idle": "2025-03-01T08:25:26.540446Z",
     "shell.execute_reply": "2025-03-01T08:25:26.540446Z"
    }
   },
   "outputs": [
    {
     "name": "stderr",
     "output_type": "stream",
     "text": [
      "C:\\Users\\Geeneth\\Desktop\\Code\\Machine Learning\\PycharmProjects\\Advanced Sentiment Analysis\\src\\visualization\\eda_visualization.py:40: FutureWarning: \n",
      "\n",
      "Passing `palette` without assigning `hue` is deprecated and will be removed in v0.14.0. Assign the `y` variable to `hue` and set `legend=False` for the same effect.\n",
      "\n",
      "  sns.barplot(data=common_words, x='Frequency', y='Word', palette='coolwarm')\n"
     ]
    },
    {
     "data": {
      "image/png": "[encoded data removed]",
      "text/plain": [
       "<Figure size 640x480 with 1 Axes>"
      ]
     },
     "metadata": {},
     "output_type": "display_data"
    },
    {
     "name": "stdout",
     "output_type": "stream",
     "text": [
      "None\n"
     ]
    }
   ],
   "source": [
    "print(CommonWordsDistribution().execute(df))\n"
   ]
  },
  {
   "cell_type": "code",
   "execution_count": 19,
   "metadata": {
    "execution": {
     "iopub.execute_input": "2025-03-01T08:25:26.543448Z",
     "iopub.status.busy": "2025-03-01T08:25:26.542417Z",
     "iopub.status.idle": "2025-03-01T08:25:26.556399Z",
     "shell.execute_reply": "2025-03-01T08:25:26.556399Z"
    }
   },
   "outputs": [
    {
     "data": {
      "text/html": [
       "<div>\n",
       "<style scoped>\n",
       "    .dataframe tbody tr th:only-of-type {\n",
       "        vertical-align: middle;\n",
       "    }\n",
       "\n",
       "    .dataframe tbody tr th {\n",
       "        vertical-align: top;\n",
       "    }\n",
       "\n",
       "    .dataframe thead th {\n",
       "        text-align: right;\n",
       "    }\n",
       "</style>\n",
       "<table border=\"1\" class=\"dataframe\">\n",
       "  <thead>\n",
       "    <tr style=\"text-align: right;\">\n",
       "      <th></th>\n",
       "      <th>text</th>\n",
       "      <th>rating</th>\n",
       "      <th>date</th>\n",
       "      <th>location</th>\n",
       "      <th>review_length</th>\n",
       "      <th>word_count</th>\n",
       "    </tr>\n",
       "  </thead>\n",
       "  <tbody>\n",
       "    <tr>\n",
       "      <th>108</th>\n",
       "      <td>Delicious Thai restaurant!  If you're looking ...</td>\n",
       "      <td>5</td>\n",
       "      <td>Dec 4, 2024</td>\n",
       "      <td>Temecula, CA</td>\n",
       "      <td>198</td>\n",
       "      <td>33</td>\n",
       "    </tr>\n",
       "    <tr>\n",
       "      <th>119</th>\n",
       "      <td>Came here on Valentine, and the foods were goo...</td>\n",
       "      <td>3</td>\n",
       "      <td>Feb 15, 2025</td>\n",
       "      <td>Jacksonville, FL</td>\n",
       "      <td>485</td>\n",
       "      <td>82</td>\n",
       "    </tr>\n",
       "    <tr>\n",
       "      <th>131</th>\n",
       "      <td>unfortunately my husband reacts to msg (ajinom...</td>\n",
       "      <td>1</td>\n",
       "      <td>Oct 25, 2024</td>\n",
       "      <td>Kailua, HI</td>\n",
       "      <td>733</td>\n",
       "      <td>131</td>\n",
       "    </tr>\n",
       "    <tr>\n",
       "      <th>143</th>\n",
       "      <td>Food was delicious...the only drawback is the ...</td>\n",
       "      <td>4</td>\n",
       "      <td>Jan 7, 2025</td>\n",
       "      <td>San Rafael, CA</td>\n",
       "      <td>165</td>\n",
       "      <td>26</td>\n",
       "    </tr>\n",
       "    <tr>\n",
       "      <th>155</th>\n",
       "      <td>Great place for Thai food and just as long as ...</td>\n",
       "      <td>4</td>\n",
       "      <td>Feb 6, 2024</td>\n",
       "      <td>San Clemente, CA</td>\n",
       "      <td>345</td>\n",
       "      <td>69</td>\n",
       "    </tr>\n",
       "    <tr>\n",
       "      <th>166</th>\n",
       "      <td>Really good Thai food.  Large portions and ful...</td>\n",
       "      <td>5</td>\n",
       "      <td>Jan 2, 2024</td>\n",
       "      <td>Cupertino, CA</td>\n",
       "      <td>336</td>\n",
       "      <td>59</td>\n",
       "    </tr>\n",
       "    <tr>\n",
       "      <th>177</th>\n",
       "      <td>Came here looklng for Indonesian food for dinn...</td>\n",
       "      <td>4</td>\n",
       "      <td>Feb 22, 2024</td>\n",
       "      <td>Portishead, United Kingdom</td>\n",
       "      <td>509</td>\n",
       "      <td>98</td>\n",
       "    </tr>\n",
       "    <tr>\n",
       "      <th>189</th>\n",
       "      <td>The food is good and the people are nice. The ...</td>\n",
       "      <td>4</td>\n",
       "      <td>Mar 29, 2024</td>\n",
       "      <td>Lakeside, CA</td>\n",
       "      <td>129</td>\n",
       "      <td>29</td>\n",
       "    </tr>\n",
       "    <tr>\n",
       "      <th>200</th>\n",
       "      <td>We were hungry and we when in and this was abs...</td>\n",
       "      <td>5</td>\n",
       "      <td>Aug 24, 2022</td>\n",
       "      <td>Calgary, Canada</td>\n",
       "      <td>162</td>\n",
       "      <td>32</td>\n",
       "    </tr>\n",
       "    <tr>\n",
       "      <th>212</th>\n",
       "      <td>Overall food was good. I enjoyed the papaya sa...</td>\n",
       "      <td>5</td>\n",
       "      <td>Jan 1, 2024</td>\n",
       "      <td>Champaign, IL</td>\n",
       "      <td>224</td>\n",
       "      <td>39</td>\n",
       "    </tr>\n",
       "    <tr>\n",
       "      <th>2431</th>\n",
       "      <td>Nice food, large portions and low prices. I re...</td>\n",
       "      <td>5</td>\n",
       "      <td>Dec 14, 2023</td>\n",
       "      <td>Sydney, Australia</td>\n",
       "      <td>121</td>\n",
       "      <td>23</td>\n",
       "    </tr>\n",
       "    <tr>\n",
       "      <th>2442</th>\n",
       "      <td>Authentic Thai flavoursEven on a Wednesday eve...</td>\n",
       "      <td>5</td>\n",
       "      <td>Nov 6, 2019</td>\n",
       "      <td>Bulimba, Australia</td>\n",
       "      <td>362</td>\n",
       "      <td>63</td>\n",
       "    </tr>\n",
       "    <tr>\n",
       "      <th>2453</th>\n",
       "      <td>I usually love exploring different restaurants...</td>\n",
       "      <td>5</td>\n",
       "      <td>Mar 29, 2018</td>\n",
       "      <td>Chicago, IL</td>\n",
       "      <td>739</td>\n",
       "      <td>130</td>\n",
       "    </tr>\n",
       "    <tr>\n",
       "      <th>2465</th>\n",
       "      <td>Best Thom Yum  soup ever! Good service. Very t...</td>\n",
       "      <td>5</td>\n",
       "      <td>Jul 2, 2021</td>\n",
       "      <td>Knoxville, TN</td>\n",
       "      <td>51</td>\n",
       "      <td>9</td>\n",
       "    </tr>\n",
       "    <tr>\n",
       "      <th>2477</th>\n",
       "      <td>As others have stated, Home Thai Restaurant is...</td>\n",
       "      <td>3</td>\n",
       "      <td>May 26, 2019</td>\n",
       "      <td>Los Angeles, CA</td>\n",
       "      <td>1720</td>\n",
       "      <td>306</td>\n",
       "    </tr>\n",
       "    <tr>\n",
       "      <th>2489</th>\n",
       "      <td>Very bad experience. First of all, the environ...</td>\n",
       "      <td>1</td>\n",
       "      <td>Feb 15, 2023</td>\n",
       "      <td>Chippendale, Sydney, Australia</td>\n",
       "      <td>858</td>\n",
       "      <td>155</td>\n",
       "    </tr>\n",
       "    <tr>\n",
       "      <th>2501</th>\n",
       "      <td>This place definitely lives up to the hype! Th...</td>\n",
       "      <td>5</td>\n",
       "      <td>Jan 3, 2019</td>\n",
       "      <td>Los Angeles, CA</td>\n",
       "      <td>539</td>\n",
       "      <td>95</td>\n",
       "    </tr>\n",
       "    <tr>\n",
       "      <th>2512</th>\n",
       "      <td>We found Home Thai on Yelp and were not disapp...</td>\n",
       "      <td>4</td>\n",
       "      <td>Sep 29, 2016</td>\n",
       "      <td>Indianapolis, IN</td>\n",
       "      <td>888</td>\n",
       "      <td>163</td>\n",
       "    </tr>\n",
       "    <tr>\n",
       "      <th>2523</th>\n",
       "      <td>We always passed this restaurant on our way ho...</td>\n",
       "      <td>5</td>\n",
       "      <td>Sep 25, 2018</td>\n",
       "      <td>Brisbane, Australia</td>\n",
       "      <td>1054</td>\n",
       "      <td>207</td>\n",
       "    </tr>\n",
       "    <tr>\n",
       "      <th>2535</th>\n",
       "      <td>We came here because we'd heard good things fr...</td>\n",
       "      <td>3</td>\n",
       "      <td>Jul 4, 2018</td>\n",
       "      <td>Los Angeles, CA</td>\n",
       "      <td>308</td>\n",
       "      <td>50</td>\n",
       "    </tr>\n",
       "  </tbody>\n",
       "</table>\n",
       "</div>"
      ],
      "text/plain": [
       "                                                   text rating          date  \\\n",
       "108   Delicious Thai restaurant!  If you're looking ...     5    Dec 4, 2024   \n",
       "119   Came here on Valentine, and the foods were goo...     3   Feb 15, 2025   \n",
       "131   unfortunately my husband reacts to msg (ajinom...     1   Oct 25, 2024   \n",
       "143   Food was delicious...the only drawback is the ...     4    Jan 7, 2025   \n",
       "155   Great place for Thai food and just as long as ...     4    Feb 6, 2024   \n",
       "166   Really good Thai food.  Large portions and ful...     5    Jan 2, 2024   \n",
       "177   Came here looklng for Indonesian food for dinn...     4   Feb 22, 2024   \n",
       "189   The food is good and the people are nice. The ...     4   Mar 29, 2024   \n",
       "200   We were hungry and we when in and this was abs...     5   Aug 24, 2022   \n",
       "212   Overall food was good. I enjoyed the papaya sa...     5    Jan 1, 2024   \n",
       "2431  Nice food, large portions and low prices. I re...     5   Dec 14, 2023   \n",
       "2442  Authentic Thai flavoursEven on a Wednesday eve...     5    Nov 6, 2019   \n",
       "2453  I usually love exploring different restaurants...     5   Mar 29, 2018   \n",
       "2465  Best Thom Yum  soup ever! Good service. Very t...     5    Jul 2, 2021   \n",
       "2477  As others have stated, Home Thai Restaurant is...     3   May 26, 2019   \n",
       "2489  Very bad experience. First of all, the environ...     1   Feb 15, 2023   \n",
       "2501  This place definitely lives up to the hype! Th...     5    Jan 3, 2019   \n",
       "2512  We found Home Thai on Yelp and were not disapp...     4   Sep 29, 2016   \n",
       "2523  We always passed this restaurant on our way ho...     5   Sep 25, 2018   \n",
       "2535  We came here because we'd heard good things fr...     3    Jul 4, 2018   \n",
       "\n",
       "                            location  review_length  word_count  \n",
       "108                     Temecula, CA            198          33  \n",
       "119                 Jacksonville, FL            485          82  \n",
       "131                       Kailua, HI            733         131  \n",
       "143                   San Rafael, CA            165          26  \n",
       "155                 San Clemente, CA            345          69  \n",
       "166                    Cupertino, CA            336          59  \n",
       "177       Portishead, United Kingdom            509          98  \n",
       "189                     Lakeside, CA            129          29  \n",
       "200                  Calgary, Canada            162          32  \n",
       "212                    Champaign, IL            224          39  \n",
       "2431               Sydney, Australia            121          23  \n",
       "2442              Bulimba, Australia            362          63  \n",
       "2453                     Chicago, IL            739         130  \n",
       "2465                   Knoxville, TN             51           9  \n",
       "2477                 Los Angeles, CA           1720         306  \n",
       "2489  Chippendale, Sydney, Australia            858         155  \n",
       "2501                 Los Angeles, CA            539          95  \n",
       "2512                Indianapolis, IN            888         163  \n",
       "2523             Brisbane, Australia           1054         207  \n",
       "2535                 Los Angeles, CA            308          50  "
      ]
     },
     "execution_count": 19,
     "metadata": {},
     "output_type": "execute_result"
    }
   ],
   "source": [
    "df"
   ]
  },
  {
   "cell_type": "code",
   "execution_count": 20,
   "metadata": {
    "execution": {
     "iopub.execute_input": "2025-03-01T08:25:26.559401Z",
     "iopub.status.busy": "2025-03-01T08:25:26.558400Z",
     "iopub.status.idle": "2025-03-01T08:25:26.573403Z",
     "shell.execute_reply": "2025-03-01T08:25:26.572400Z"
    }
   },
   "outputs": [
    {
     "data": {
      "text/plain": [
       "text             Delicious Thai restaurant!  If you're looking ...\n",
       "rating                                                          5 \n",
       "date                                                   Dec 4, 2024\n",
       "location                                              Temecula, CA\n",
       "review_length                                                  198\n",
       "word_count                                                      33\n",
       "Name: 108, dtype: object"
      ]
     },
     "execution_count": 20,
     "metadata": {},
     "output_type": "execute_result"
    }
   ],
   "source": [
    "df.loc[108]"
   ]
  },
  {
   "cell_type": "markdown",
   "metadata": {},
   "source": [
    "### Saving the initially cleaned dataset"
   ]
  },
  {
   "cell_type": "code",
   "execution_count": null,
   "metadata": {
    "execution": {
     "iopub.execute_input": "2025-03-01T08:25:26.575399Z",
     "iopub.status.busy": "2025-03-01T08:25:26.575399Z",
     "iopub.status.idle": "2025-03-01T08:25:26.587399Z",
     "shell.execute_reply": "2025-03-01T08:25:26.587399Z"
    }
   },
   "outputs": [],
   "source": [
    "df.to_csv('../data/cleaned/cleaned_reviews.csv', index=False)"
   ]
  }
 ],
 "metadata": {
  "kernelspec": {
   "display_name": ".venv",
   "language": "python",
   "name": "python3"
  },
  "language_info": {
   "codemirror_mode": {
    "name": "ipython",
    "version": 3
   },
   "file_extension": ".py",
   "mimetype": "text/x-python",
   "name": "python",
   "nbconvert_exporter": "python",
   "pygments_lexer": "ipython3",
   "version": "3.10.0"
  }
 },
 "nbformat": 4,
 "nbformat_minor": 2
}
